{
 "cells": [
  {
   "cell_type": "markdown",
   "metadata": {},
   "source": [
    "# Check Context"
   ]
  },
  {
   "cell_type": "code",
   "execution_count": 1,
   "metadata": {
    "ExecuteTime": {
     "end_time": "2018-10-04T13:15:34.078916Z",
     "start_time": "2018-10-04T13:15:34.059932Z"
    }
   },
   "outputs": [
    {
     "data": {
      "text/html": [
       "\n",
       "        <div>\n",
       "            <p><b>SparkContext</b></p>\n",
       "\n",
       "            <p><a href=\"http://192.168.1.132:4040\">Spark UI</a></p>\n",
       "\n",
       "            <dl>\n",
       "              <dt>Version</dt>\n",
       "                <dd><code>v2.3.1</code></dd>\n",
       "              <dt>Master</dt>\n",
       "                <dd><code>local[*]</code></dd>\n",
       "              <dt>AppName</dt>\n",
       "                <dd><code>PySparkShell</code></dd>\n",
       "            </dl>\n",
       "        </div>\n",
       "        "
      ],
      "text/plain": [
       "<SparkContext master=local[*] appName=PySparkShell>"
      ]
     },
     "execution_count": 1,
     "metadata": {},
     "output_type": "execute_result"
    }
   ],
   "source": [
    "sc"
   ]
  },
  {
   "cell_type": "markdown",
   "metadata": {},
   "source": [
    "## Check Number of workers/threands"
   ]
  },
  {
   "cell_type": "code",
   "execution_count": 2,
   "metadata": {
    "ExecuteTime": {
     "end_time": "2018-10-04T13:15:34.089946Z",
     "start_time": "2018-10-04T13:15:34.081816Z"
    }
   },
   "outputs": [
    {
     "data": {
      "text/plain": [
       "8"
      ]
     },
     "execution_count": 2,
     "metadata": {},
     "output_type": "execute_result"
    }
   ],
   "source": [
    "sc.defaultParallelism"
   ]
  },
  {
   "cell_type": "markdown",
   "metadata": {},
   "source": [
    "## Test context"
   ]
  },
  {
   "cell_type": "code",
   "execution_count": 3,
   "metadata": {
    "ExecuteTime": {
     "end_time": "2018-10-04T13:15:35.284039Z",
     "start_time": "2018-10-04T13:15:34.092704Z"
    }
   },
   "outputs": [
    {
     "name": "stdout",
     "output_type": "stream",
     "text": [
      "3.104\n"
     ]
    }
   ],
   "source": [
    "import random\n",
    "num_samples = 1000\n",
    "def inside(p):     \n",
    "  x, y = random.random(), random.random()\n",
    "  return x*x + y*y < 1\n",
    "count = sc.parallelize(range(0, num_samples)).filter(inside).count()\n",
    "pi = 4 * count / num_samples\n",
    "print(pi)"
   ]
  },
  {
   "cell_type": "markdown",
   "metadata": {},
   "source": [
    "# pyspark.sql (the easy way)"
   ]
  },
  {
   "cell_type": "markdown",
   "metadata": {},
   "source": [
    "## Change context type"
   ]
  },
  {
   "cell_type": "code",
   "execution_count": 4,
   "metadata": {
    "ExecuteTime": {
     "end_time": "2018-10-04T13:15:35.290918Z",
     "start_time": "2018-10-04T13:15:35.286412Z"
    }
   },
   "outputs": [],
   "source": [
    "from pyspark.sql import SQLContext\n",
    "sqlContext = SQLContext(sc)"
   ]
  },
  {
   "cell_type": "code",
   "execution_count": 5,
   "metadata": {
    "ExecuteTime": {
     "end_time": "2018-10-04T13:15:35.298684Z",
     "start_time": "2018-10-04T13:15:35.293212Z"
    }
   },
   "outputs": [
    {
     "data": {
      "text/plain": [
       "<pyspark.sql.context.SQLContext at 0x10db59550>"
      ]
     },
     "execution_count": 5,
     "metadata": {},
     "output_type": "execute_result"
    }
   ],
   "source": [
    "sqlContext"
   ]
  },
  {
   "cell_type": "markdown",
   "metadata": {},
   "source": [
    "## Load data"
   ]
  },
  {
   "cell_type": "code",
   "execution_count": 6,
   "metadata": {
    "ExecuteTime": {
     "end_time": "2018-10-04T13:15:35.303554Z",
     "start_time": "2018-10-04T13:15:35.301201Z"
    }
   },
   "outputs": [],
   "source": [
    "datafile = '/Users/nenetto/work/Ferrovial/workshop-spark/workshop-spark-violations/data/Traffic_Violations.csv'"
   ]
  },
  {
   "cell_type": "code",
   "execution_count": 7,
   "metadata": {
    "ExecuteTime": {
     "end_time": "2018-10-04T13:15:40.022496Z",
     "start_time": "2018-10-04T13:15:35.306301Z"
    },
    "scrolled": false
   },
   "outputs": [
    {
     "name": "stdout",
     "output_type": "stream",
     "text": [
      "root\n",
      " |-- Date Of Stop: date (nullable = true)\n",
      " |-- Time Of Stop: timestamp (nullable = true)\n",
      " |-- Agency: string (nullable = true)\n",
      " |-- SubAgency: string (nullable = true)\n",
      " |-- Description: string (nullable = true)\n",
      " |-- Location: string (nullable = true)\n",
      " |-- Latitude: double (nullable = true)\n",
      " |-- Longitude: double (nullable = true)\n",
      " |-- Accident: string (nullable = true)\n",
      " |-- Belts: string (nullable = true)\n",
      " |-- Personal Injury: string (nullable = true)\n",
      " |-- Property Damage: string (nullable = true)\n",
      " |-- Fatal: string (nullable = true)\n",
      " |-- Commercial License: string (nullable = true)\n",
      " |-- HAZMAT: string (nullable = true)\n",
      " |-- Commercial Vehicle: string (nullable = true)\n",
      " |-- Alcohol: string (nullable = true)\n",
      " |-- Work Zone: string (nullable = true)\n",
      " |-- State: string (nullable = true)\n",
      " |-- VehicleType: string (nullable = true)\n",
      " |-- Year: integer (nullable = true)\n",
      " |-- Color: string (nullable = true)\n",
      " |-- Violation Type: string (nullable = true)\n",
      " |-- Contributed To Accident: string (nullable = true)\n",
      " |-- Race: string (nullable = true)\n",
      " |-- Gender: string (nullable = true)\n",
      " |-- Driver State: string (nullable = true)\n",
      " |-- DL State: string (nullable = true)\n",
      " |-- Arrest Type: string (nullable = true)\n",
      "\n"
     ]
    }
   ],
   "source": [
    "from pyspark.sql.types import DateType, TimestampType, BooleanType, IntegerType, DoubleType, StringType, StructType, StructField\n",
    "\n",
    "\n",
    "schema = StructType([   StructField(\"Date Of Stop\", DateType(), True),\n",
    "                        StructField(\"Time Of Stop\", TimestampType(), True),\n",
    "                        StructField(\"Agency\", StringType(), True),\n",
    "                        StructField(\"SubAgency\", StringType(), True),\n",
    "                        StructField(\"Description\", StringType(), True),\n",
    "                        StructField(\"Location\", StringType(), True),\n",
    "                        StructField(\"Latitude\", DoubleType(), True),\n",
    "                        StructField(\"Longitude\", DoubleType(), True),\n",
    "                        StructField(\"Accident\", StringType(), True),\n",
    "                        StructField(\"Belts\", StringType(), True),\n",
    "                        StructField(\"Personal Injury\", StringType(), True),\n",
    "                        StructField(\"Property Damage\", StringType(), True),\n",
    "                        StructField(\"Fatal\", StringType(), True),\n",
    "                        StructField(\"Commercial License\", StringType(), True),\n",
    "                        StructField(\"HAZMAT\", StringType(), True),\n",
    "                        StructField(\"Commercial Vehicle\", StringType(), True),\n",
    "                        StructField(\"Alcohol\", StringType(), True),\n",
    "                        StructField(\"Work Zone\", StringType(), True),\n",
    "                        StructField(\"State\", StringType(), True),\n",
    "                        StructField(\"VehicleType\", StringType(), True),\n",
    "                        StructField(\"Year\", IntegerType(), True),\n",
    "                        StructField(\"Make\", StringType(), True),\n",
    "                        StructField(\"Model\", StringType(), True),\n",
    "                        StructField(\"Color\", StringType(), True),\n",
    "                        StructField(\"Violation Type\", StringType(), True),\n",
    "                        StructField(\"Charge\", StringType(), True),\n",
    "                        StructField(\"Article\", StringType(), True),\n",
    "                        StructField(\"Contributed To Accident\", StringType(), True),\n",
    "                        StructField(\"Race\", StringType(), True),\n",
    "                        StructField(\"Gender\", StringType(), True),\n",
    "                        StructField(\"Driver City\", StringType(), True),\n",
    "                        StructField(\"Driver State\", StringType(), True),\n",
    "                        StructField(\"DL State\", StringType(), True),\n",
    "                        StructField(\"Arrest Type\", StringType(), True),\n",
    "                        StructField(\"Geolocation\", StringType(), True)])\n",
    "\n",
    "\n",
    "df = sqlContext.read.csv(datafile,\n",
    "                         header=True,\n",
    "                         schema=schema,\n",
    "                         nullValue='',\n",
    "                         dateFormat='MM/dd/yyyy',\n",
    "                         timestampFormat='HH:mm:ss',\n",
    "                         inferSchema=True,\n",
    "                         mode='DROPMALFORMED')\n",
    "\n",
    "\n",
    "df = df.drop('Geolocation','Make','Model', 'Article', 'Charge', 'Driver City')\n",
    "\n",
    "df.printSchema()"
   ]
  },
  {
   "cell_type": "markdown",
   "metadata": {},
   "source": [
    "## Get useful columns"
   ]
  },
  {
   "cell_type": "code",
   "execution_count": 8,
   "metadata": {
    "ExecuteTime": {
     "end_time": "2018-10-04T13:15:42.433094Z",
     "start_time": "2018-10-04T13:15:40.025235Z"
    }
   },
   "outputs": [
    {
     "data": {
      "text/html": [
       "<div>\n",
       "<style scoped>\n",
       "    .dataframe tbody tr th:only-of-type {\n",
       "        vertical-align: middle;\n",
       "    }\n",
       "\n",
       "    .dataframe tbody tr th {\n",
       "        vertical-align: top;\n",
       "    }\n",
       "\n",
       "    .dataframe thead th {\n",
       "        text-align: right;\n",
       "    }\n",
       "</style>\n",
       "<table border=\"1\" class=\"dataframe\">\n",
       "  <thead>\n",
       "    <tr style=\"text-align: right;\">\n",
       "      <th></th>\n",
       "      <th>Date Of Stop</th>\n",
       "      <th>Time Of Stop</th>\n",
       "      <th>Accident</th>\n",
       "      <th>Alcohol</th>\n",
       "      <th>Belts</th>\n",
       "      <th>Race</th>\n",
       "      <th>Gender</th>\n",
       "      <th>Arrest Type</th>\n",
       "    </tr>\n",
       "  </thead>\n",
       "  <tbody>\n",
       "    <tr>\n",
       "      <th>0</th>\n",
       "      <td>2013-09-24</td>\n",
       "      <td>1970-01-01 17:11:00</td>\n",
       "      <td>No</td>\n",
       "      <td>No</td>\n",
       "      <td>No</td>\n",
       "      <td>BLACK</td>\n",
       "      <td>M</td>\n",
       "      <td>A - Marked Patrol</td>\n",
       "    </tr>\n",
       "    <tr>\n",
       "      <th>1</th>\n",
       "      <td>2012-12-20</td>\n",
       "      <td>1970-01-01 00:41:00</td>\n",
       "      <td>No</td>\n",
       "      <td>No</td>\n",
       "      <td>No</td>\n",
       "      <td>WHITE</td>\n",
       "      <td>M</td>\n",
       "      <td>A - Marked Patrol</td>\n",
       "    </tr>\n",
       "    <tr>\n",
       "      <th>2</th>\n",
       "      <td>2012-07-20</td>\n",
       "      <td>1970-01-01 23:12:00</td>\n",
       "      <td>No</td>\n",
       "      <td>No</td>\n",
       "      <td>No</td>\n",
       "      <td>ASIAN</td>\n",
       "      <td>F</td>\n",
       "      <td>A - Marked Patrol</td>\n",
       "    </tr>\n",
       "    <tr>\n",
       "      <th>3</th>\n",
       "      <td>2012-03-19</td>\n",
       "      <td>1970-01-01 16:10:00</td>\n",
       "      <td>No</td>\n",
       "      <td>No</td>\n",
       "      <td>No</td>\n",
       "      <td>HISPANIC</td>\n",
       "      <td>M</td>\n",
       "      <td>A - Marked Patrol</td>\n",
       "    </tr>\n",
       "    <tr>\n",
       "      <th>4</th>\n",
       "      <td>2014-12-01</td>\n",
       "      <td>1970-01-01 12:52:00</td>\n",
       "      <td>No</td>\n",
       "      <td>No</td>\n",
       "      <td>No</td>\n",
       "      <td>BLACK</td>\n",
       "      <td>F</td>\n",
       "      <td>A - Marked Patrol</td>\n",
       "    </tr>\n",
       "    <tr>\n",
       "      <th>5</th>\n",
       "      <td>2012-06-09</td>\n",
       "      <td>1970-01-01 21:19:00</td>\n",
       "      <td>No</td>\n",
       "      <td>No</td>\n",
       "      <td>No</td>\n",
       "      <td>WHITE</td>\n",
       "      <td>F</td>\n",
       "      <td>A - Marked Patrol</td>\n",
       "    </tr>\n",
       "    <tr>\n",
       "      <th>6</th>\n",
       "      <td>2012-09-11</td>\n",
       "      <td>1970-01-01 21:47:00</td>\n",
       "      <td>No</td>\n",
       "      <td>No</td>\n",
       "      <td>Yes</td>\n",
       "      <td>BLACK</td>\n",
       "      <td>M</td>\n",
       "      <td>A - Marked Patrol</td>\n",
       "    </tr>\n",
       "    <tr>\n",
       "      <th>7</th>\n",
       "      <td>2012-11-04</td>\n",
       "      <td>1970-01-01 01:14:00</td>\n",
       "      <td>No</td>\n",
       "      <td>No</td>\n",
       "      <td>No</td>\n",
       "      <td>BLACK</td>\n",
       "      <td>M</td>\n",
       "      <td>A - Marked Patrol</td>\n",
       "    </tr>\n",
       "    <tr>\n",
       "      <th>8</th>\n",
       "      <td>2012-08-27</td>\n",
       "      <td>1970-01-01 00:04:00</td>\n",
       "      <td>No</td>\n",
       "      <td>No</td>\n",
       "      <td>No</td>\n",
       "      <td>WHITE</td>\n",
       "      <td>M</td>\n",
       "      <td>A - Marked Patrol</td>\n",
       "    </tr>\n",
       "    <tr>\n",
       "      <th>9</th>\n",
       "      <td>2012-05-21</td>\n",
       "      <td>1970-01-01 16:47:00</td>\n",
       "      <td>No</td>\n",
       "      <td>No</td>\n",
       "      <td>No</td>\n",
       "      <td>BLACK</td>\n",
       "      <td>M</td>\n",
       "      <td>A - Marked Patrol</td>\n",
       "    </tr>\n",
       "  </tbody>\n",
       "</table>\n",
       "</div>"
      ],
      "text/plain": [
       "  Date Of Stop        Time Of Stop Accident Alcohol Belts      Race Gender  \\\n",
       "0   2013-09-24 1970-01-01 17:11:00       No      No    No     BLACK      M   \n",
       "1   2012-12-20 1970-01-01 00:41:00       No      No    No     WHITE      M   \n",
       "2   2012-07-20 1970-01-01 23:12:00       No      No    No     ASIAN      F   \n",
       "3   2012-03-19 1970-01-01 16:10:00       No      No    No  HISPANIC      M   \n",
       "4   2014-12-01 1970-01-01 12:52:00       No      No    No     BLACK      F   \n",
       "5   2012-06-09 1970-01-01 21:19:00       No      No    No     WHITE      F   \n",
       "6   2012-09-11 1970-01-01 21:47:00       No      No   Yes     BLACK      M   \n",
       "7   2012-11-04 1970-01-01 01:14:00       No      No    No     BLACK      M   \n",
       "8   2012-08-27 1970-01-01 00:04:00       No      No    No     WHITE      M   \n",
       "9   2012-05-21 1970-01-01 16:47:00       No      No    No     BLACK      M   \n",
       "\n",
       "         Arrest Type  \n",
       "0  A - Marked Patrol  \n",
       "1  A - Marked Patrol  \n",
       "2  A - Marked Patrol  \n",
       "3  A - Marked Patrol  \n",
       "4  A - Marked Patrol  \n",
       "5  A - Marked Patrol  \n",
       "6  A - Marked Patrol  \n",
       "7  A - Marked Patrol  \n",
       "8  A - Marked Patrol  \n",
       "9  A - Marked Patrol  "
      ]
     },
     "execution_count": 8,
     "metadata": {},
     "output_type": "execute_result"
    }
   ],
   "source": [
    "dfx = df.select(['Date Of Stop',\n",
    "                 'Time Of Stop',\n",
    "                 'Accident',\n",
    "                 'Alcohol',\n",
    "                 'Belts',\n",
    "                 'Race',\n",
    "                 'Gender',\n",
    "                 'Arrest Type'])\n",
    "\n",
    "dfx.limit(10).toPandas()"
   ]
  },
  {
   "cell_type": "markdown",
   "metadata": {},
   "source": [
    "## Setting the Schema"
   ]
  },
  {
   "cell_type": "code",
   "execution_count": 9,
   "metadata": {
    "ExecuteTime": {
     "end_time": "2018-10-04T13:15:42.443037Z",
     "start_time": "2018-10-04T13:15:42.435310Z"
    }
   },
   "outputs": [],
   "source": [
    "from pyspark.sql.types import DateType, TimestampType\n",
    "from datetime import datetime\n",
    "from pyspark.sql.functions import col, udf"
   ]
  },
  {
   "cell_type": "code",
   "execution_count": 10,
   "metadata": {
    "ExecuteTime": {
     "end_time": "2018-10-04T13:15:42.449427Z",
     "start_time": "2018-10-04T13:15:42.445626Z"
    }
   },
   "outputs": [
    {
     "name": "stdout",
     "output_type": "stream",
     "text": [
      "root\n",
      " |-- Date Of Stop: date (nullable = true)\n",
      " |-- Time Of Stop: timestamp (nullable = true)\n",
      " |-- Accident: string (nullable = true)\n",
      " |-- Alcohol: string (nullable = true)\n",
      " |-- Belts: string (nullable = true)\n",
      " |-- Race: string (nullable = true)\n",
      " |-- Gender: string (nullable = true)\n",
      " |-- Arrest Type: string (nullable = true)\n",
      "\n"
     ]
    }
   ],
   "source": [
    "dfx.printSchema()"
   ]
  },
  {
   "cell_type": "markdown",
   "metadata": {},
   "source": [
    "## Gender"
   ]
  },
  {
   "cell_type": "code",
   "execution_count": 11,
   "metadata": {
    "ExecuteTime": {
     "end_time": "2018-10-04T13:15:45.061105Z",
     "start_time": "2018-10-04T13:15:42.451667Z"
    }
   },
   "outputs": [
    {
     "data": {
      "text/html": [
       "<div>\n",
       "<style scoped>\n",
       "    .dataframe tbody tr th:only-of-type {\n",
       "        vertical-align: middle;\n",
       "    }\n",
       "\n",
       "    .dataframe tbody tr th {\n",
       "        vertical-align: top;\n",
       "    }\n",
       "\n",
       "    .dataframe thead th {\n",
       "        text-align: right;\n",
       "    }\n",
       "</style>\n",
       "<table border=\"1\" class=\"dataframe\">\n",
       "  <thead>\n",
       "    <tr style=\"text-align: right;\">\n",
       "      <th></th>\n",
       "      <th>Gender</th>\n",
       "      <th>count</th>\n",
       "    </tr>\n",
       "  </thead>\n",
       "  <tbody>\n",
       "    <tr>\n",
       "      <th>0</th>\n",
       "      <td>M</td>\n",
       "      <td>726459</td>\n",
       "    </tr>\n",
       "    <tr>\n",
       "      <th>1</th>\n",
       "      <td>F</td>\n",
       "      <td>358025</td>\n",
       "    </tr>\n",
       "    <tr>\n",
       "      <th>2</th>\n",
       "      <td>U</td>\n",
       "      <td>1186</td>\n",
       "    </tr>\n",
       "  </tbody>\n",
       "</table>\n",
       "</div>"
      ],
      "text/plain": [
       "  Gender   count\n",
       "0      M  726459\n",
       "1      F  358025\n",
       "2      U    1186"
      ]
     },
     "execution_count": 11,
     "metadata": {},
     "output_type": "execute_result"
    }
   ],
   "source": [
    "dfx.groupBy('Gender').count().toPandas()[['Gender', 'count']].sort_values(by='count', ascending=False).reset_index(drop=True)"
   ]
  },
  {
   "cell_type": "code",
   "execution_count": 12,
   "metadata": {
    "ExecuteTime": {
     "end_time": "2018-10-04T13:15:46.834679Z",
     "start_time": "2018-10-04T13:15:45.064175Z"
    }
   },
   "outputs": [
    {
     "data": {
      "text/html": [
       "<div>\n",
       "<style scoped>\n",
       "    .dataframe tbody tr th:only-of-type {\n",
       "        vertical-align: middle;\n",
       "    }\n",
       "\n",
       "    .dataframe tbody tr th {\n",
       "        vertical-align: top;\n",
       "    }\n",
       "\n",
       "    .dataframe thead th {\n",
       "        text-align: right;\n",
       "    }\n",
       "</style>\n",
       "<table border=\"1\" class=\"dataframe\">\n",
       "  <thead>\n",
       "    <tr style=\"text-align: right;\">\n",
       "      <th></th>\n",
       "      <th>Gender</th>\n",
       "      <th>count</th>\n",
       "    </tr>\n",
       "  </thead>\n",
       "  <tbody>\n",
       "    <tr>\n",
       "      <th>0</th>\n",
       "      <td>M</td>\n",
       "      <td>726459</td>\n",
       "    </tr>\n",
       "    <tr>\n",
       "      <th>1</th>\n",
       "      <td>F</td>\n",
       "      <td>358025</td>\n",
       "    </tr>\n",
       "    <tr>\n",
       "      <th>2</th>\n",
       "      <td>U</td>\n",
       "      <td>1186</td>\n",
       "    </tr>\n",
       "  </tbody>\n",
       "</table>\n",
       "</div>"
      ],
      "text/plain": [
       "  Gender   count\n",
       "0      M  726459\n",
       "1      F  358025\n",
       "2      U    1186"
      ]
     },
     "execution_count": 12,
     "metadata": {},
     "output_type": "execute_result"
    }
   ],
   "source": [
    "dfx.groupBy('Gender').count().toPandas()[['Gender', 'count']].sort_values(by='count', ascending=False).reset_index(drop=True)"
   ]
  },
  {
   "cell_type": "markdown",
   "metadata": {},
   "source": [
    "## Accident"
   ]
  },
  {
   "cell_type": "code",
   "execution_count": 13,
   "metadata": {
    "ExecuteTime": {
     "end_time": "2018-10-04T13:15:48.699936Z",
     "start_time": "2018-10-04T13:15:46.837630Z"
    }
   },
   "outputs": [
    {
     "data": {
      "text/html": [
       "<div>\n",
       "<style scoped>\n",
       "    .dataframe tbody tr th:only-of-type {\n",
       "        vertical-align: middle;\n",
       "    }\n",
       "\n",
       "    .dataframe tbody tr th {\n",
       "        vertical-align: top;\n",
       "    }\n",
       "\n",
       "    .dataframe thead th {\n",
       "        text-align: right;\n",
       "    }\n",
       "</style>\n",
       "<table border=\"1\" class=\"dataframe\">\n",
       "  <thead>\n",
       "    <tr style=\"text-align: right;\">\n",
       "      <th></th>\n",
       "      <th>Accident</th>\n",
       "      <th>count</th>\n",
       "    </tr>\n",
       "  </thead>\n",
       "  <tbody>\n",
       "    <tr>\n",
       "      <th>0</th>\n",
       "      <td>No</td>\n",
       "      <td>1085670</td>\n",
       "    </tr>\n",
       "  </tbody>\n",
       "</table>\n",
       "</div>"
      ],
      "text/plain": [
       "  Accident    count\n",
       "0       No  1085670"
      ]
     },
     "execution_count": 13,
     "metadata": {},
     "output_type": "execute_result"
    }
   ],
   "source": [
    "dfx.groupBy('Accident').count().toPandas()[['Accident', 'count']].sort_values(by='count', ascending=False).reset_index(drop=True)"
   ]
  },
  {
   "cell_type": "code",
   "execution_count": 14,
   "metadata": {
    "ExecuteTime": {
     "end_time": "2018-10-04T13:15:48.709307Z",
     "start_time": "2018-10-04T13:15:48.702724Z"
    }
   },
   "outputs": [],
   "source": [
    "dfx = dfx.drop('Accident')"
   ]
  },
  {
   "cell_type": "markdown",
   "metadata": {},
   "source": [
    "## Alcohol"
   ]
  },
  {
   "cell_type": "code",
   "execution_count": 15,
   "metadata": {
    "ExecuteTime": {
     "end_time": "2018-10-04T13:15:50.448029Z",
     "start_time": "2018-10-04T13:15:48.712540Z"
    }
   },
   "outputs": [
    {
     "data": {
      "text/html": [
       "<div>\n",
       "<style scoped>\n",
       "    .dataframe tbody tr th:only-of-type {\n",
       "        vertical-align: middle;\n",
       "    }\n",
       "\n",
       "    .dataframe tbody tr th {\n",
       "        vertical-align: top;\n",
       "    }\n",
       "\n",
       "    .dataframe thead th {\n",
       "        text-align: right;\n",
       "    }\n",
       "</style>\n",
       "<table border=\"1\" class=\"dataframe\">\n",
       "  <thead>\n",
       "    <tr style=\"text-align: right;\">\n",
       "      <th></th>\n",
       "      <th>Alcohol</th>\n",
       "      <th>count</th>\n",
       "    </tr>\n",
       "  </thead>\n",
       "  <tbody>\n",
       "    <tr>\n",
       "      <th>0</th>\n",
       "      <td>No</td>\n",
       "      <td>1083641</td>\n",
       "    </tr>\n",
       "    <tr>\n",
       "      <th>1</th>\n",
       "      <td>Yes</td>\n",
       "      <td>2029</td>\n",
       "    </tr>\n",
       "  </tbody>\n",
       "</table>\n",
       "</div>"
      ],
      "text/plain": [
       "  Alcohol    count\n",
       "0      No  1083641\n",
       "1     Yes     2029"
      ]
     },
     "execution_count": 15,
     "metadata": {},
     "output_type": "execute_result"
    }
   ],
   "source": [
    "dfx.groupBy('Alcohol').count().toPandas()[['Alcohol', 'count']].sort_values(by='count', ascending=False).reset_index(drop=True)"
   ]
  },
  {
   "cell_type": "markdown",
   "metadata": {},
   "source": [
    "## Belts"
   ]
  },
  {
   "cell_type": "code",
   "execution_count": 16,
   "metadata": {
    "ExecuteTime": {
     "end_time": "2018-10-04T13:15:52.213112Z",
     "start_time": "2018-10-04T13:15:50.451259Z"
    }
   },
   "outputs": [
    {
     "data": {
      "text/html": [
       "<div>\n",
       "<style scoped>\n",
       "    .dataframe tbody tr th:only-of-type {\n",
       "        vertical-align: middle;\n",
       "    }\n",
       "\n",
       "    .dataframe tbody tr th {\n",
       "        vertical-align: top;\n",
       "    }\n",
       "\n",
       "    .dataframe thead th {\n",
       "        text-align: right;\n",
       "    }\n",
       "</style>\n",
       "<table border=\"1\" class=\"dataframe\">\n",
       "  <thead>\n",
       "    <tr style=\"text-align: right;\">\n",
       "      <th></th>\n",
       "      <th>Belts</th>\n",
       "      <th>count</th>\n",
       "    </tr>\n",
       "  </thead>\n",
       "  <tbody>\n",
       "    <tr>\n",
       "      <th>0</th>\n",
       "      <td>No</td>\n",
       "      <td>1046459</td>\n",
       "    </tr>\n",
       "    <tr>\n",
       "      <th>1</th>\n",
       "      <td>Yes</td>\n",
       "      <td>39211</td>\n",
       "    </tr>\n",
       "  </tbody>\n",
       "</table>\n",
       "</div>"
      ],
      "text/plain": [
       "  Belts    count\n",
       "0    No  1046459\n",
       "1   Yes    39211"
      ]
     },
     "execution_count": 16,
     "metadata": {},
     "output_type": "execute_result"
    }
   ],
   "source": [
    "dfx.groupBy('Belts').count().toPandas()[['Belts', 'count']].sort_values(by='count', ascending=False).reset_index(drop=True)"
   ]
  },
  {
   "cell_type": "markdown",
   "metadata": {},
   "source": [
    "## Race"
   ]
  },
  {
   "cell_type": "code",
   "execution_count": 17,
   "metadata": {
    "ExecuteTime": {
     "end_time": "2018-10-04T13:15:53.936656Z",
     "start_time": "2018-10-04T13:15:52.216184Z"
    }
   },
   "outputs": [
    {
     "data": {
      "text/html": [
       "<div>\n",
       "<style scoped>\n",
       "    .dataframe tbody tr th:only-of-type {\n",
       "        vertical-align: middle;\n",
       "    }\n",
       "\n",
       "    .dataframe tbody tr th {\n",
       "        vertical-align: top;\n",
       "    }\n",
       "\n",
       "    .dataframe thead th {\n",
       "        text-align: right;\n",
       "    }\n",
       "</style>\n",
       "<table border=\"1\" class=\"dataframe\">\n",
       "  <thead>\n",
       "    <tr style=\"text-align: right;\">\n",
       "      <th></th>\n",
       "      <th>Race</th>\n",
       "      <th>count</th>\n",
       "    </tr>\n",
       "  </thead>\n",
       "  <tbody>\n",
       "    <tr>\n",
       "      <th>0</th>\n",
       "      <td>WHITE</td>\n",
       "      <td>398261</td>\n",
       "    </tr>\n",
       "    <tr>\n",
       "      <th>1</th>\n",
       "      <td>BLACK</td>\n",
       "      <td>339535</td>\n",
       "    </tr>\n",
       "    <tr>\n",
       "      <th>2</th>\n",
       "      <td>HISPANIC</td>\n",
       "      <td>225358</td>\n",
       "    </tr>\n",
       "    <tr>\n",
       "      <th>3</th>\n",
       "      <td>ASIAN</td>\n",
       "      <td>63458</td>\n",
       "    </tr>\n",
       "    <tr>\n",
       "      <th>4</th>\n",
       "      <td>OTHER</td>\n",
       "      <td>56491</td>\n",
       "    </tr>\n",
       "    <tr>\n",
       "      <th>5</th>\n",
       "      <td>NATIVE AMERICAN</td>\n",
       "      <td>2567</td>\n",
       "    </tr>\n",
       "  </tbody>\n",
       "</table>\n",
       "</div>"
      ],
      "text/plain": [
       "              Race   count\n",
       "0            WHITE  398261\n",
       "1            BLACK  339535\n",
       "2         HISPANIC  225358\n",
       "3            ASIAN   63458\n",
       "4            OTHER   56491\n",
       "5  NATIVE AMERICAN    2567"
      ]
     },
     "execution_count": 17,
     "metadata": {},
     "output_type": "execute_result"
    }
   ],
   "source": [
    "dfx.groupBy('Race').count().toPandas()[['Race', 'count']].sort_values(by='count', ascending=False).reset_index(drop=True)"
   ]
  },
  {
   "cell_type": "markdown",
   "metadata": {},
   "source": [
    "## Arrest Type"
   ]
  },
  {
   "cell_type": "code",
   "execution_count": 18,
   "metadata": {
    "ExecuteTime": {
     "end_time": "2018-10-04T13:15:55.608569Z",
     "start_time": "2018-10-04T13:15:53.938964Z"
    },
    "scrolled": false
   },
   "outputs": [
    {
     "data": {
      "text/html": [
       "<div>\n",
       "<style scoped>\n",
       "    .dataframe tbody tr th:only-of-type {\n",
       "        vertical-align: middle;\n",
       "    }\n",
       "\n",
       "    .dataframe tbody tr th {\n",
       "        vertical-align: top;\n",
       "    }\n",
       "\n",
       "    .dataframe thead th {\n",
       "        text-align: right;\n",
       "    }\n",
       "</style>\n",
       "<table border=\"1\" class=\"dataframe\">\n",
       "  <thead>\n",
       "    <tr style=\"text-align: right;\">\n",
       "      <th></th>\n",
       "      <th>Arrest Type</th>\n",
       "      <th>count</th>\n",
       "    </tr>\n",
       "  </thead>\n",
       "  <tbody>\n",
       "    <tr>\n",
       "      <th>0</th>\n",
       "      <td>A - Marked Patrol</td>\n",
       "      <td>884504</td>\n",
       "    </tr>\n",
       "    <tr>\n",
       "      <th>1</th>\n",
       "      <td>Q - Marked Laser</td>\n",
       "      <td>110248</td>\n",
       "    </tr>\n",
       "    <tr>\n",
       "      <th>2</th>\n",
       "      <td>B - Unmarked Patrol</td>\n",
       "      <td>34888</td>\n",
       "    </tr>\n",
       "    <tr>\n",
       "      <th>3</th>\n",
       "      <td>S - License Plate Recognition</td>\n",
       "      <td>12847</td>\n",
       "    </tr>\n",
       "    <tr>\n",
       "      <th>4</th>\n",
       "      <td>O - Foot Patrol</td>\n",
       "      <td>11213</td>\n",
       "    </tr>\n",
       "    <tr>\n",
       "      <th>5</th>\n",
       "      <td>L - Motorcycle</td>\n",
       "      <td>10167</td>\n",
       "    </tr>\n",
       "    <tr>\n",
       "      <th>6</th>\n",
       "      <td>E - Marked Stationary Radar</td>\n",
       "      <td>6816</td>\n",
       "    </tr>\n",
       "    <tr>\n",
       "      <th>7</th>\n",
       "      <td>R - Unmarked Laser</td>\n",
       "      <td>5068</td>\n",
       "    </tr>\n",
       "    <tr>\n",
       "      <th>8</th>\n",
       "      <td>G - Marked Moving Radar (Stationary)</td>\n",
       "      <td>4058</td>\n",
       "    </tr>\n",
       "    <tr>\n",
       "      <th>9</th>\n",
       "      <td>M - Marked (Off-Duty)</td>\n",
       "      <td>1621</td>\n",
       "    </tr>\n",
       "    <tr>\n",
       "      <th>10</th>\n",
       "      <td>I - Marked Moving Radar (Moving)</td>\n",
       "      <td>1538</td>\n",
       "    </tr>\n",
       "    <tr>\n",
       "      <th>11</th>\n",
       "      <td>F - Unmarked Stationary Radar</td>\n",
       "      <td>770</td>\n",
       "    </tr>\n",
       "    <tr>\n",
       "      <th>12</th>\n",
       "      <td>H - Unmarked Moving Radar (Stationary)</td>\n",
       "      <td>556</td>\n",
       "    </tr>\n",
       "    <tr>\n",
       "      <th>13</th>\n",
       "      <td>C - Marked VASCAR</td>\n",
       "      <td>399</td>\n",
       "    </tr>\n",
       "    <tr>\n",
       "      <th>14</th>\n",
       "      <td>J - Unmarked Moving Radar (Moving)</td>\n",
       "      <td>290</td>\n",
       "    </tr>\n",
       "    <tr>\n",
       "      <th>15</th>\n",
       "      <td>P - Mounted Patrol</td>\n",
       "      <td>250</td>\n",
       "    </tr>\n",
       "    <tr>\n",
       "      <th>16</th>\n",
       "      <td>D - Unmarked VASCAR</td>\n",
       "      <td>232</td>\n",
       "    </tr>\n",
       "    <tr>\n",
       "      <th>17</th>\n",
       "      <td>N - Unmarked (Off-Duty)</td>\n",
       "      <td>161</td>\n",
       "    </tr>\n",
       "    <tr>\n",
       "      <th>18</th>\n",
       "      <td>K - Aircraft Assist</td>\n",
       "      <td>44</td>\n",
       "    </tr>\n",
       "  </tbody>\n",
       "</table>\n",
       "</div>"
      ],
      "text/plain": [
       "                               Arrest Type   count\n",
       "0                        A - Marked Patrol  884504\n",
       "1                         Q - Marked Laser  110248\n",
       "2                      B - Unmarked Patrol   34888\n",
       "3            S - License Plate Recognition   12847\n",
       "4                          O - Foot Patrol   11213\n",
       "5                           L - Motorcycle   10167\n",
       "6              E - Marked Stationary Radar    6816\n",
       "7                       R - Unmarked Laser    5068\n",
       "8     G - Marked Moving Radar (Stationary)    4058\n",
       "9                    M - Marked (Off-Duty)    1621\n",
       "10        I - Marked Moving Radar (Moving)    1538\n",
       "11           F - Unmarked Stationary Radar     770\n",
       "12  H - Unmarked Moving Radar (Stationary)     556\n",
       "13                       C - Marked VASCAR     399\n",
       "14      J - Unmarked Moving Radar (Moving)     290\n",
       "15                      P - Mounted Patrol     250\n",
       "16                     D - Unmarked VASCAR     232\n",
       "17                 N - Unmarked (Off-Duty)     161\n",
       "18                     K - Aircraft Assist      44"
      ]
     },
     "execution_count": 18,
     "metadata": {},
     "output_type": "execute_result"
    }
   ],
   "source": [
    "dfx.groupBy('Arrest Type').count().toPandas()[['Arrest Type', 'count']].sort_values(by='count', ascending=False).reset_index(drop=True)"
   ]
  },
  {
   "cell_type": "code",
   "execution_count": 19,
   "metadata": {
    "ExecuteTime": {
     "end_time": "2018-10-04T13:15:55.614729Z",
     "start_time": "2018-10-04T13:15:55.610479Z"
    }
   },
   "outputs": [
    {
     "name": "stdout",
     "output_type": "stream",
     "text": [
      "root\n",
      " |-- Date Of Stop: date (nullable = true)\n",
      " |-- Time Of Stop: timestamp (nullable = true)\n",
      " |-- Alcohol: string (nullable = true)\n",
      " |-- Belts: string (nullable = true)\n",
      " |-- Race: string (nullable = true)\n",
      " |-- Gender: string (nullable = true)\n",
      " |-- Arrest Type: string (nullable = true)\n",
      "\n"
     ]
    }
   ],
   "source": [
    "dfx.printSchema()"
   ]
  },
  {
   "cell_type": "code",
   "execution_count": 20,
   "metadata": {
    "ExecuteTime": {
     "end_time": "2018-10-04T13:15:57.438797Z",
     "start_time": "2018-10-04T13:15:55.617249Z"
    },
    "scrolled": false
   },
   "outputs": [
    {
     "data": {
      "text/html": [
       "<div>\n",
       "<style scoped>\n",
       "    .dataframe tbody tr th:only-of-type {\n",
       "        vertical-align: middle;\n",
       "    }\n",
       "\n",
       "    .dataframe tbody tr th {\n",
       "        vertical-align: top;\n",
       "    }\n",
       "\n",
       "    .dataframe thead th {\n",
       "        text-align: right;\n",
       "    }\n",
       "</style>\n",
       "<table border=\"1\" class=\"dataframe\">\n",
       "  <thead>\n",
       "    <tr style=\"text-align: right;\">\n",
       "      <th></th>\n",
       "      <th>Race</th>\n",
       "      <th>Gender</th>\n",
       "      <th>count</th>\n",
       "    </tr>\n",
       "  </thead>\n",
       "  <tbody>\n",
       "    <tr>\n",
       "      <th>17</th>\n",
       "      <td>ASIAN</td>\n",
       "      <td>F</td>\n",
       "      <td>24452</td>\n",
       "    </tr>\n",
       "    <tr>\n",
       "      <th>3</th>\n",
       "      <td>ASIAN</td>\n",
       "      <td>M</td>\n",
       "      <td>38997</td>\n",
       "    </tr>\n",
       "    <tr>\n",
       "      <th>2</th>\n",
       "      <td>ASIAN</td>\n",
       "      <td>U</td>\n",
       "      <td>9</td>\n",
       "    </tr>\n",
       "    <tr>\n",
       "      <th>10</th>\n",
       "      <td>BLACK</td>\n",
       "      <td>F</td>\n",
       "      <td>115608</td>\n",
       "    </tr>\n",
       "    <tr>\n",
       "      <th>9</th>\n",
       "      <td>BLACK</td>\n",
       "      <td>M</td>\n",
       "      <td>223922</td>\n",
       "    </tr>\n",
       "    <tr>\n",
       "      <th>11</th>\n",
       "      <td>BLACK</td>\n",
       "      <td>U</td>\n",
       "      <td>5</td>\n",
       "    </tr>\n",
       "    <tr>\n",
       "      <th>13</th>\n",
       "      <td>HISPANIC</td>\n",
       "      <td>F</td>\n",
       "      <td>51083</td>\n",
       "    </tr>\n",
       "    <tr>\n",
       "      <th>8</th>\n",
       "      <td>HISPANIC</td>\n",
       "      <td>M</td>\n",
       "      <td>174245</td>\n",
       "    </tr>\n",
       "    <tr>\n",
       "      <th>16</th>\n",
       "      <td>HISPANIC</td>\n",
       "      <td>U</td>\n",
       "      <td>30</td>\n",
       "    </tr>\n",
       "    <tr>\n",
       "      <th>1</th>\n",
       "      <td>NATIVE AMERICAN</td>\n",
       "      <td>F</td>\n",
       "      <td>839</td>\n",
       "    </tr>\n",
       "    <tr>\n",
       "      <th>4</th>\n",
       "      <td>NATIVE AMERICAN</td>\n",
       "      <td>M</td>\n",
       "      <td>1725</td>\n",
       "    </tr>\n",
       "    <tr>\n",
       "      <th>5</th>\n",
       "      <td>NATIVE AMERICAN</td>\n",
       "      <td>U</td>\n",
       "      <td>3</td>\n",
       "    </tr>\n",
       "    <tr>\n",
       "      <th>0</th>\n",
       "      <td>OTHER</td>\n",
       "      <td>F</td>\n",
       "      <td>18168</td>\n",
       "    </tr>\n",
       "    <tr>\n",
       "      <th>12</th>\n",
       "      <td>OTHER</td>\n",
       "      <td>M</td>\n",
       "      <td>37201</td>\n",
       "    </tr>\n",
       "    <tr>\n",
       "      <th>7</th>\n",
       "      <td>OTHER</td>\n",
       "      <td>U</td>\n",
       "      <td>1122</td>\n",
       "    </tr>\n",
       "    <tr>\n",
       "      <th>14</th>\n",
       "      <td>WHITE</td>\n",
       "      <td>F</td>\n",
       "      <td>147875</td>\n",
       "    </tr>\n",
       "    <tr>\n",
       "      <th>15</th>\n",
       "      <td>WHITE</td>\n",
       "      <td>M</td>\n",
       "      <td>250369</td>\n",
       "    </tr>\n",
       "    <tr>\n",
       "      <th>6</th>\n",
       "      <td>WHITE</td>\n",
       "      <td>U</td>\n",
       "      <td>17</td>\n",
       "    </tr>\n",
       "  </tbody>\n",
       "</table>\n",
       "</div>"
      ],
      "text/plain": [
       "               Race Gender   count\n",
       "17            ASIAN      F   24452\n",
       "3             ASIAN      M   38997\n",
       "2             ASIAN      U       9\n",
       "10            BLACK      F  115608\n",
       "9             BLACK      M  223922\n",
       "11            BLACK      U       5\n",
       "13         HISPANIC      F   51083\n",
       "8          HISPANIC      M  174245\n",
       "16         HISPANIC      U      30\n",
       "1   NATIVE AMERICAN      F     839\n",
       "4   NATIVE AMERICAN      M    1725\n",
       "5   NATIVE AMERICAN      U       3\n",
       "0             OTHER      F   18168\n",
       "12            OTHER      M   37201\n",
       "7             OTHER      U    1122\n",
       "14            WHITE      F  147875\n",
       "15            WHITE      M  250369\n",
       "6             WHITE      U      17"
      ]
     },
     "execution_count": 20,
     "metadata": {},
     "output_type": "execute_result"
    }
   ],
   "source": [
    "dfx.groupBy(['Race','Gender']).count().toPandas().sort_values(['Race','Gender'])"
   ]
  },
  {
   "cell_type": "markdown",
   "metadata": {},
   "source": [
    "# Linear Model"
   ]
  },
  {
   "cell_type": "code",
   "execution_count": 21,
   "metadata": {
    "ExecuteTime": {
     "end_time": "2018-10-04T13:15:58.544446Z",
     "start_time": "2018-10-04T13:15:57.441207Z"
    }
   },
   "outputs": [
    {
     "data": {
      "text/html": [
       "<div>\n",
       "<style scoped>\n",
       "    .dataframe tbody tr th:only-of-type {\n",
       "        vertical-align: middle;\n",
       "    }\n",
       "\n",
       "    .dataframe tbody tr th {\n",
       "        vertical-align: top;\n",
       "    }\n",
       "\n",
       "    .dataframe thead th {\n",
       "        text-align: right;\n",
       "    }\n",
       "</style>\n",
       "<table border=\"1\" class=\"dataframe\">\n",
       "  <thead>\n",
       "    <tr style=\"text-align: right;\">\n",
       "      <th></th>\n",
       "      <th>Belts</th>\n",
       "      <th>Agency</th>\n",
       "      <th>SubAgency</th>\n",
       "      <th>Accident</th>\n",
       "      <th>Personal Injury</th>\n",
       "      <th>Property Damage</th>\n",
       "      <th>Fatal</th>\n",
       "      <th>Commercial License</th>\n",
       "      <th>HAZMAT</th>\n",
       "      <th>Commercial Vehicle</th>\n",
       "      <th>...</th>\n",
       "      <th>State</th>\n",
       "      <th>VehicleType</th>\n",
       "      <th>Color</th>\n",
       "      <th>Violation Type</th>\n",
       "      <th>Contributed To Accident</th>\n",
       "      <th>Race</th>\n",
       "      <th>Gender</th>\n",
       "      <th>Driver State</th>\n",
       "      <th>DL State</th>\n",
       "      <th>Arrest Type</th>\n",
       "    </tr>\n",
       "  </thead>\n",
       "  <tbody>\n",
       "    <tr>\n",
       "      <th>0</th>\n",
       "      <td>No</td>\n",
       "      <td>MCP</td>\n",
       "      <td>3rd district, Silver Spring</td>\n",
       "      <td>No</td>\n",
       "      <td>No</td>\n",
       "      <td>No</td>\n",
       "      <td>No</td>\n",
       "      <td>No</td>\n",
       "      <td>No</td>\n",
       "      <td>No</td>\n",
       "      <td>...</td>\n",
       "      <td>MD</td>\n",
       "      <td>02 - Automobile</td>\n",
       "      <td>BLACK</td>\n",
       "      <td>Citation</td>\n",
       "      <td>No</td>\n",
       "      <td>BLACK</td>\n",
       "      <td>M</td>\n",
       "      <td>MD</td>\n",
       "      <td>MD</td>\n",
       "      <td>A - Marked Patrol</td>\n",
       "    </tr>\n",
       "    <tr>\n",
       "      <th>1</th>\n",
       "      <td>No</td>\n",
       "      <td>MCP</td>\n",
       "      <td>2nd district, Bethesda</td>\n",
       "      <td>No</td>\n",
       "      <td>No</td>\n",
       "      <td>No</td>\n",
       "      <td>No</td>\n",
       "      <td>No</td>\n",
       "      <td>No</td>\n",
       "      <td>No</td>\n",
       "      <td>...</td>\n",
       "      <td>MD</td>\n",
       "      <td>02 - Automobile</td>\n",
       "      <td>GRAY</td>\n",
       "      <td>Citation</td>\n",
       "      <td>No</td>\n",
       "      <td>WHITE</td>\n",
       "      <td>M</td>\n",
       "      <td>MD</td>\n",
       "      <td>MD</td>\n",
       "      <td>A - Marked Patrol</td>\n",
       "    </tr>\n",
       "    <tr>\n",
       "      <th>2</th>\n",
       "      <td>No</td>\n",
       "      <td>MCP</td>\n",
       "      <td>5th district, Germantown</td>\n",
       "      <td>No</td>\n",
       "      <td>No</td>\n",
       "      <td>No</td>\n",
       "      <td>No</td>\n",
       "      <td>No</td>\n",
       "      <td>No</td>\n",
       "      <td>No</td>\n",
       "      <td>...</td>\n",
       "      <td>MD</td>\n",
       "      <td>02 - Automobile</td>\n",
       "      <td>RED</td>\n",
       "      <td>Citation</td>\n",
       "      <td>No</td>\n",
       "      <td>ASIAN</td>\n",
       "      <td>F</td>\n",
       "      <td>MD</td>\n",
       "      <td>MD</td>\n",
       "      <td>A - Marked Patrol</td>\n",
       "    </tr>\n",
       "    <tr>\n",
       "      <th>3</th>\n",
       "      <td>No</td>\n",
       "      <td>MCP</td>\n",
       "      <td>2nd district, Bethesda</td>\n",
       "      <td>No</td>\n",
       "      <td>No</td>\n",
       "      <td>No</td>\n",
       "      <td>No</td>\n",
       "      <td>No</td>\n",
       "      <td>No</td>\n",
       "      <td>No</td>\n",
       "      <td>...</td>\n",
       "      <td>VA</td>\n",
       "      <td>02 - Automobile</td>\n",
       "      <td>SILVER</td>\n",
       "      <td>Citation</td>\n",
       "      <td>No</td>\n",
       "      <td>HISPANIC</td>\n",
       "      <td>M</td>\n",
       "      <td>VA</td>\n",
       "      <td>VA</td>\n",
       "      <td>A - Marked Patrol</td>\n",
       "    </tr>\n",
       "    <tr>\n",
       "      <th>4</th>\n",
       "      <td>No</td>\n",
       "      <td>MCP</td>\n",
       "      <td>6th district, Gaithersburg / Montgomery Village</td>\n",
       "      <td>No</td>\n",
       "      <td>No</td>\n",
       "      <td>Yes</td>\n",
       "      <td>No</td>\n",
       "      <td>No</td>\n",
       "      <td>No</td>\n",
       "      <td>No</td>\n",
       "      <td>...</td>\n",
       "      <td>MD</td>\n",
       "      <td>02 - Automobile</td>\n",
       "      <td>SILVER</td>\n",
       "      <td>Citation</td>\n",
       "      <td>No</td>\n",
       "      <td>BLACK</td>\n",
       "      <td>F</td>\n",
       "      <td>MD</td>\n",
       "      <td>MD</td>\n",
       "      <td>A - Marked Patrol</td>\n",
       "    </tr>\n",
       "    <tr>\n",
       "      <th>5</th>\n",
       "      <td>No</td>\n",
       "      <td>MCP</td>\n",
       "      <td>3rd district, Silver Spring</td>\n",
       "      <td>No</td>\n",
       "      <td>No</td>\n",
       "      <td>No</td>\n",
       "      <td>No</td>\n",
       "      <td>No</td>\n",
       "      <td>No</td>\n",
       "      <td>No</td>\n",
       "      <td>...</td>\n",
       "      <td>MD</td>\n",
       "      <td>02 - Automobile</td>\n",
       "      <td>SILVER</td>\n",
       "      <td>Citation</td>\n",
       "      <td>No</td>\n",
       "      <td>WHITE</td>\n",
       "      <td>F</td>\n",
       "      <td>MD</td>\n",
       "      <td>MD</td>\n",
       "      <td>A - Marked Patrol</td>\n",
       "    </tr>\n",
       "    <tr>\n",
       "      <th>6</th>\n",
       "      <td>Yes</td>\n",
       "      <td>MCP</td>\n",
       "      <td>4th district, Wheaton</td>\n",
       "      <td>No</td>\n",
       "      <td>No</td>\n",
       "      <td>No</td>\n",
       "      <td>No</td>\n",
       "      <td>No</td>\n",
       "      <td>No</td>\n",
       "      <td>No</td>\n",
       "      <td>...</td>\n",
       "      <td>MD</td>\n",
       "      <td>02 - Automobile</td>\n",
       "      <td>BLACK</td>\n",
       "      <td>Citation</td>\n",
       "      <td>No</td>\n",
       "      <td>BLACK</td>\n",
       "      <td>M</td>\n",
       "      <td>MD</td>\n",
       "      <td>MD</td>\n",
       "      <td>A - Marked Patrol</td>\n",
       "    </tr>\n",
       "    <tr>\n",
       "      <th>7</th>\n",
       "      <td>No</td>\n",
       "      <td>MCP</td>\n",
       "      <td>4th district, Wheaton</td>\n",
       "      <td>No</td>\n",
       "      <td>No</td>\n",
       "      <td>No</td>\n",
       "      <td>No</td>\n",
       "      <td>No</td>\n",
       "      <td>No</td>\n",
       "      <td>No</td>\n",
       "      <td>...</td>\n",
       "      <td>MD</td>\n",
       "      <td>02 - Automobile</td>\n",
       "      <td>WHITE</td>\n",
       "      <td>Citation</td>\n",
       "      <td>No</td>\n",
       "      <td>BLACK</td>\n",
       "      <td>M</td>\n",
       "      <td>MD</td>\n",
       "      <td>MD</td>\n",
       "      <td>A - Marked Patrol</td>\n",
       "    </tr>\n",
       "    <tr>\n",
       "      <th>8</th>\n",
       "      <td>No</td>\n",
       "      <td>MCP</td>\n",
       "      <td>5th district, Germantown</td>\n",
       "      <td>No</td>\n",
       "      <td>No</td>\n",
       "      <td>No</td>\n",
       "      <td>No</td>\n",
       "      <td>No</td>\n",
       "      <td>No</td>\n",
       "      <td>No</td>\n",
       "      <td>...</td>\n",
       "      <td>MD</td>\n",
       "      <td>02 - Automobile</td>\n",
       "      <td>SILVER</td>\n",
       "      <td>Citation</td>\n",
       "      <td>No</td>\n",
       "      <td>WHITE</td>\n",
       "      <td>M</td>\n",
       "      <td>MD</td>\n",
       "      <td>MD</td>\n",
       "      <td>A - Marked Patrol</td>\n",
       "    </tr>\n",
       "    <tr>\n",
       "      <th>9</th>\n",
       "      <td>No</td>\n",
       "      <td>MCP</td>\n",
       "      <td>2nd district, Bethesda</td>\n",
       "      <td>No</td>\n",
       "      <td>No</td>\n",
       "      <td>No</td>\n",
       "      <td>No</td>\n",
       "      <td>No</td>\n",
       "      <td>No</td>\n",
       "      <td>No</td>\n",
       "      <td>...</td>\n",
       "      <td>MD</td>\n",
       "      <td>05 - Light Duty Truck</td>\n",
       "      <td>BLACK</td>\n",
       "      <td>Citation</td>\n",
       "      <td>No</td>\n",
       "      <td>BLACK</td>\n",
       "      <td>M</td>\n",
       "      <td>MD</td>\n",
       "      <td>MD</td>\n",
       "      <td>A - Marked Patrol</td>\n",
       "    </tr>\n",
       "  </tbody>\n",
       "</table>\n",
       "<p>10 rows × 22 columns</p>\n",
       "</div>"
      ],
      "text/plain": [
       "  Belts Agency                                        SubAgency Accident  \\\n",
       "0    No    MCP                      3rd district, Silver Spring       No   \n",
       "1    No    MCP                           2nd district, Bethesda       No   \n",
       "2    No    MCP                         5th district, Germantown       No   \n",
       "3    No    MCP                           2nd district, Bethesda       No   \n",
       "4    No    MCP  6th district, Gaithersburg / Montgomery Village       No   \n",
       "5    No    MCP                      3rd district, Silver Spring       No   \n",
       "6   Yes    MCP                            4th district, Wheaton       No   \n",
       "7    No    MCP                            4th district, Wheaton       No   \n",
       "8    No    MCP                         5th district, Germantown       No   \n",
       "9    No    MCP                           2nd district, Bethesda       No   \n",
       "\n",
       "  Personal Injury Property Damage Fatal Commercial License HAZMAT  \\\n",
       "0              No              No    No                 No     No   \n",
       "1              No              No    No                 No     No   \n",
       "2              No              No    No                 No     No   \n",
       "3              No              No    No                 No     No   \n",
       "4              No             Yes    No                 No     No   \n",
       "5              No              No    No                 No     No   \n",
       "6              No              No    No                 No     No   \n",
       "7              No              No    No                 No     No   \n",
       "8              No              No    No                 No     No   \n",
       "9              No              No    No                 No     No   \n",
       "\n",
       "  Commercial Vehicle        ...         State            VehicleType   Color  \\\n",
       "0                 No        ...            MD        02 - Automobile   BLACK   \n",
       "1                 No        ...            MD        02 - Automobile    GRAY   \n",
       "2                 No        ...            MD        02 - Automobile     RED   \n",
       "3                 No        ...            VA        02 - Automobile  SILVER   \n",
       "4                 No        ...            MD        02 - Automobile  SILVER   \n",
       "5                 No        ...            MD        02 - Automobile  SILVER   \n",
       "6                 No        ...            MD        02 - Automobile   BLACK   \n",
       "7                 No        ...            MD        02 - Automobile   WHITE   \n",
       "8                 No        ...            MD        02 - Automobile  SILVER   \n",
       "9                 No        ...            MD  05 - Light Duty Truck   BLACK   \n",
       "\n",
       "  Violation Type Contributed To Accident      Race Gender Driver State  \\\n",
       "0       Citation                      No     BLACK      M           MD   \n",
       "1       Citation                      No     WHITE      M           MD   \n",
       "2       Citation                      No     ASIAN      F           MD   \n",
       "3       Citation                      No  HISPANIC      M           VA   \n",
       "4       Citation                      No     BLACK      F           MD   \n",
       "5       Citation                      No     WHITE      F           MD   \n",
       "6       Citation                      No     BLACK      M           MD   \n",
       "7       Citation                      No     BLACK      M           MD   \n",
       "8       Citation                      No     WHITE      M           MD   \n",
       "9       Citation                      No     BLACK      M           MD   \n",
       "\n",
       "  DL State        Arrest Type  \n",
       "0       MD  A - Marked Patrol  \n",
       "1       MD  A - Marked Patrol  \n",
       "2       MD  A - Marked Patrol  \n",
       "3       VA  A - Marked Patrol  \n",
       "4       MD  A - Marked Patrol  \n",
       "5       MD  A - Marked Patrol  \n",
       "6       MD  A - Marked Patrol  \n",
       "7       MD  A - Marked Patrol  \n",
       "8       MD  A - Marked Patrol  \n",
       "9       MD  A - Marked Patrol  \n",
       "\n",
       "[10 rows x 22 columns]"
      ]
     },
     "execution_count": 21,
     "metadata": {},
     "output_type": "execute_result"
    }
   ],
   "source": [
    "interest_variable = ['Belts']\n",
    "regressors = ['Agency',\n",
    "              'SubAgency',\n",
    "              'Accident',\n",
    "              'Personal Injury',\n",
    "              'Property Damage',\n",
    "              'Fatal',\n",
    "              'Commercial License',\n",
    "              'HAZMAT',\n",
    "              'Commercial Vehicle',\n",
    "              'Alcohol',\n",
    "              'Work Zone',\n",
    "              'State',\n",
    "              'VehicleType',\n",
    "              'Color',\n",
    "              'Violation Type',\n",
    "              'Contributed To Accident',\n",
    "              'Race',\n",
    "              'Gender',\n",
    "              'Driver State',\n",
    "              'DL State',\n",
    "              'Arrest Type']\n",
    "\n",
    "\n",
    "## Filter training data\n",
    "dfx_model = df.select(interest_variable + regressors)\n",
    "dfx_model.limit(10).toPandas()"
   ]
  },
  {
   "cell_type": "markdown",
   "metadata": {
    "ExecuteTime": {
     "end_time": "2018-10-04T12:18:54.422997Z",
     "start_time": "2018-10-04T12:18:54.419729Z"
    }
   },
   "source": [
    "## Interest Variable Coding"
   ]
  },
  {
   "cell_type": "code",
   "execution_count": 22,
   "metadata": {
    "ExecuteTime": {
     "end_time": "2018-10-04T13:16:00.092117Z",
     "start_time": "2018-10-04T13:15:58.546542Z"
    }
   },
   "outputs": [
    {
     "data": {
      "text/html": [
       "<div>\n",
       "<style scoped>\n",
       "    .dataframe tbody tr th:only-of-type {\n",
       "        vertical-align: middle;\n",
       "    }\n",
       "\n",
       "    .dataframe tbody tr th {\n",
       "        vertical-align: top;\n",
       "    }\n",
       "\n",
       "    .dataframe thead th {\n",
       "        text-align: right;\n",
       "    }\n",
       "</style>\n",
       "<table border=\"1\" class=\"dataframe\">\n",
       "  <thead>\n",
       "    <tr style=\"text-align: right;\">\n",
       "      <th></th>\n",
       "      <th>Belts</th>\n",
       "      <th>count</th>\n",
       "    </tr>\n",
       "  </thead>\n",
       "  <tbody>\n",
       "    <tr>\n",
       "      <th>0</th>\n",
       "      <td>No</td>\n",
       "      <td>1046459</td>\n",
       "    </tr>\n",
       "    <tr>\n",
       "      <th>1</th>\n",
       "      <td>Yes</td>\n",
       "      <td>39211</td>\n",
       "    </tr>\n",
       "  </tbody>\n",
       "</table>\n",
       "</div>"
      ],
      "text/plain": [
       "  Belts    count\n",
       "0    No  1046459\n",
       "1   Yes    39211"
      ]
     },
     "execution_count": 22,
     "metadata": {},
     "output_type": "execute_result"
    }
   ],
   "source": [
    "dfx_model.groupby(interest_variable).count().toPandas()[interest_variable + \n",
    "                                                        ['count']].sort_values(by='count', \n",
    "                                                                               ascending=False).reset_index(drop=True)"
   ]
  },
  {
   "cell_type": "markdown",
   "metadata": {},
   "source": [
    "## Create Dummies"
   ]
  },
  {
   "cell_type": "code",
   "execution_count": 23,
   "metadata": {
    "ExecuteTime": {
     "end_time": "2018-10-04T13:16:00.110505Z",
     "start_time": "2018-10-04T13:16:00.095113Z"
    }
   },
   "outputs": [],
   "source": [
    "import pyspark.sql.functions as F\n",
    "from pymake.utils.common.prettymessaging import PrettyMessaging\n",
    "pm = PrettyMessaging('Spark')\n",
    "\n",
    "def create_dummies(df, variable, delete = False):\n",
    "    types = df.select(variable).distinct().rdd.flatMap(lambda x: x).collect()\n",
    "    pm.print_info(variable)\n",
    "    \n",
    "    if len(types) < 10:\n",
    "        for t in types:\n",
    "            pm.print_info_2(t, padding=2)\n",
    "    else:\n",
    "        for t in types[:10]:\n",
    "            pm.print_info_2(t, padding=2)\n",
    "            \n",
    "        pm.print_info_2('...', padding=2)\n",
    "    \n",
    "    \n",
    "    types_expr = [F.when(F.col(variable) == ty, 1).otherwise(0).alias(\"{0}_\".format(variable) + ty.replace('.','').replace(';','').replace('`','')) for ty in types]\n",
    "        \n",
    "    new_columns = df.columns\n",
    "    \n",
    "    if delete:\n",
    "        new_columns.remove(variable)\n",
    "    \n",
    "    return df.select(*new_columns, *types_expr)"
   ]
  },
  {
   "cell_type": "code",
   "execution_count": 24,
   "metadata": {
    "ExecuteTime": {
     "end_time": "2018-10-04T13:16:46.181910Z",
     "start_time": "2018-10-04T13:16:00.112846Z"
    },
    "scrolled": false
   },
   "outputs": [
    {
     "name": "stdout",
     "output_type": "stream",
     "text": [
      "\u001b[1;92m[Spark]\u001b[0m\u001b[1;92m[   info]\u001b[0m\u001b[1;92m: \u001b[0m\u001b[0;33mAgency\u001b[0m\n",
      "\u001b[1;92m[Spark]\u001b[0m\u001b[1;92m[   info]\u001b[0m\u001b[1;92m: \u001b[0m    \u001b[1;94mMCP\u001b[0m\n",
      "\u001b[1;92m[Spark]\u001b[0m\u001b[1;92m[   info]\u001b[0m\u001b[1;92m: \u001b[0m\u001b[0;33mSubAgency\u001b[0m\n",
      "\u001b[1;92m[Spark]\u001b[0m\u001b[1;92m[   info]\u001b[0m\u001b[1;92m: \u001b[0m    \u001b[1;94m5th district, Germantown\u001b[0m\n",
      "\u001b[1;92m[Spark]\u001b[0m\u001b[1;92m[   info]\u001b[0m\u001b[1;92m: \u001b[0m    \u001b[1;94m4th district, Wheaton\u001b[0m\n",
      "\u001b[1;92m[Spark]\u001b[0m\u001b[1;92m[   info]\u001b[0m\u001b[1;92m: \u001b[0m    \u001b[1;94m3rd district, Silver Spring\u001b[0m\n",
      "\u001b[1;92m[Spark]\u001b[0m\u001b[1;92m[   info]\u001b[0m\u001b[1;92m: \u001b[0m    \u001b[1;94m6th district, Gaithersburg / Montgomery Village\u001b[0m\n",
      "\u001b[1;92m[Spark]\u001b[0m\u001b[1;92m[   info]\u001b[0m\u001b[1;92m: \u001b[0m    \u001b[1;94m2nd district, Bethesda\u001b[0m\n",
      "\u001b[1;92m[Spark]\u001b[0m\u001b[1;92m[   info]\u001b[0m\u001b[1;92m: \u001b[0m    \u001b[1;94mHeadquarters and Special Operations\u001b[0m\n",
      "\u001b[1;92m[Spark]\u001b[0m\u001b[1;92m[   info]\u001b[0m\u001b[1;92m: \u001b[0m    \u001b[1;94m1st district, Rockville\u001b[0m\n",
      "\u001b[1;92m[Spark]\u001b[0m\u001b[1;92m[   info]\u001b[0m\u001b[1;92m: \u001b[0m\u001b[0;33mAccident\u001b[0m\n",
      "\u001b[1;92m[Spark]\u001b[0m\u001b[1;92m[   info]\u001b[0m\u001b[1;92m: \u001b[0m    \u001b[1;94mNo\u001b[0m\n",
      "\u001b[1;92m[Spark]\u001b[0m\u001b[1;92m[   info]\u001b[0m\u001b[1;92m: \u001b[0m\u001b[0;33mPersonal Injury\u001b[0m\n",
      "\u001b[1;92m[Spark]\u001b[0m\u001b[1;92m[   info]\u001b[0m\u001b[1;92m: \u001b[0m    \u001b[1;94mNo\u001b[0m\n",
      "\u001b[1;92m[Spark]\u001b[0m\u001b[1;92m[   info]\u001b[0m\u001b[1;92m: \u001b[0m    \u001b[1;94mYes\u001b[0m\n",
      "\u001b[1;92m[Spark]\u001b[0m\u001b[1;92m[   info]\u001b[0m\u001b[1;92m: \u001b[0m\u001b[0;33mProperty Damage\u001b[0m\n",
      "\u001b[1;92m[Spark]\u001b[0m\u001b[1;92m[   info]\u001b[0m\u001b[1;92m: \u001b[0m    \u001b[1;94mNo\u001b[0m\n",
      "\u001b[1;92m[Spark]\u001b[0m\u001b[1;92m[   info]\u001b[0m\u001b[1;92m: \u001b[0m    \u001b[1;94mYes\u001b[0m\n",
      "\u001b[1;92m[Spark]\u001b[0m\u001b[1;92m[   info]\u001b[0m\u001b[1;92m: \u001b[0m\u001b[0;33mFatal\u001b[0m\n",
      "\u001b[1;92m[Spark]\u001b[0m\u001b[1;92m[   info]\u001b[0m\u001b[1;92m: \u001b[0m    \u001b[1;94mNo\u001b[0m\n",
      "\u001b[1;92m[Spark]\u001b[0m\u001b[1;92m[   info]\u001b[0m\u001b[1;92m: \u001b[0m    \u001b[1;94mYes\u001b[0m\n",
      "\u001b[1;92m[Spark]\u001b[0m\u001b[1;92m[   info]\u001b[0m\u001b[1;92m: \u001b[0m\u001b[0;33mCommercial License\u001b[0m\n",
      "\u001b[1;92m[Spark]\u001b[0m\u001b[1;92m[   info]\u001b[0m\u001b[1;92m: \u001b[0m    \u001b[1;94mNo\u001b[0m\n",
      "\u001b[1;92m[Spark]\u001b[0m\u001b[1;92m[   info]\u001b[0m\u001b[1;92m: \u001b[0m    \u001b[1;94mYes\u001b[0m\n",
      "\u001b[1;92m[Spark]\u001b[0m\u001b[1;92m[   info]\u001b[0m\u001b[1;92m: \u001b[0m\u001b[0;33mHAZMAT\u001b[0m\n",
      "\u001b[1;92m[Spark]\u001b[0m\u001b[1;92m[   info]\u001b[0m\u001b[1;92m: \u001b[0m    \u001b[1;94mNo\u001b[0m\n",
      "\u001b[1;92m[Spark]\u001b[0m\u001b[1;92m[   info]\u001b[0m\u001b[1;92m: \u001b[0m    \u001b[1;94mYes\u001b[0m\n",
      "\u001b[1;92m[Spark]\u001b[0m\u001b[1;92m[   info]\u001b[0m\u001b[1;92m: \u001b[0m\u001b[0;33mCommercial Vehicle\u001b[0m\n",
      "\u001b[1;92m[Spark]\u001b[0m\u001b[1;92m[   info]\u001b[0m\u001b[1;92m: \u001b[0m    \u001b[1;94mNo\u001b[0m\n",
      "\u001b[1;92m[Spark]\u001b[0m\u001b[1;92m[   info]\u001b[0m\u001b[1;92m: \u001b[0m    \u001b[1;94mYes\u001b[0m\n",
      "\u001b[1;92m[Spark]\u001b[0m\u001b[1;92m[   info]\u001b[0m\u001b[1;92m: \u001b[0m\u001b[0;33mAlcohol\u001b[0m\n",
      "\u001b[1;92m[Spark]\u001b[0m\u001b[1;92m[   info]\u001b[0m\u001b[1;92m: \u001b[0m    \u001b[1;94mNo\u001b[0m\n",
      "\u001b[1;92m[Spark]\u001b[0m\u001b[1;92m[   info]\u001b[0m\u001b[1;92m: \u001b[0m    \u001b[1;94mYes\u001b[0m\n",
      "\u001b[1;92m[Spark]\u001b[0m\u001b[1;92m[   info]\u001b[0m\u001b[1;92m: \u001b[0m\u001b[0;33mWork Zone\u001b[0m\n",
      "\u001b[1;92m[Spark]\u001b[0m\u001b[1;92m[   info]\u001b[0m\u001b[1;92m: \u001b[0m    \u001b[1;94mNo\u001b[0m\n",
      "\u001b[1;92m[Spark]\u001b[0m\u001b[1;92m[   info]\u001b[0m\u001b[1;92m: \u001b[0m    \u001b[1;94mYes\u001b[0m\n",
      "\u001b[1;92m[Spark]\u001b[0m\u001b[1;92m[   info]\u001b[0m\u001b[1;92m: \u001b[0m\u001b[0;33mState\u001b[0m\n",
      "\u001b[1;92m[Spark]\u001b[0m\u001b[1;92m[   info]\u001b[0m\u001b[1;92m: \u001b[0m    \u001b[1;94mSC\u001b[0m\n",
      "\u001b[1;92m[Spark]\u001b[0m\u001b[1;92m[   info]\u001b[0m\u001b[1;92m: \u001b[0m    \u001b[1;94mAZ\u001b[0m\n",
      "\u001b[1;92m[Spark]\u001b[0m\u001b[1;92m[   info]\u001b[0m\u001b[1;92m: \u001b[0m    \u001b[1;94mNS\u001b[0m\n",
      "\u001b[1;92m[Spark]\u001b[0m\u001b[1;92m[   info]\u001b[0m\u001b[1;92m: \u001b[0m    \u001b[1;94mLA\u001b[0m\n",
      "\u001b[1;92m[Spark]\u001b[0m\u001b[1;92m[   info]\u001b[0m\u001b[1;92m: \u001b[0m    \u001b[1;94mMN\u001b[0m\n",
      "\u001b[1;92m[Spark]\u001b[0m\u001b[1;92m[   info]\u001b[0m\u001b[1;92m: \u001b[0m    \u001b[1;94mNJ\u001b[0m\n",
      "\u001b[1;92m[Spark]\u001b[0m\u001b[1;92m[   info]\u001b[0m\u001b[1;92m: \u001b[0m    \u001b[1;94mDC\u001b[0m\n",
      "\u001b[1;92m[Spark]\u001b[0m\u001b[1;92m[   info]\u001b[0m\u001b[1;92m: \u001b[0m    \u001b[1;94mOR\u001b[0m\n",
      "\u001b[1;92m[Spark]\u001b[0m\u001b[1;92m[   info]\u001b[0m\u001b[1;92m: \u001b[0m    \u001b[1;94mVA\u001b[0m\n",
      "\u001b[1;92m[Spark]\u001b[0m\u001b[1;92m[   info]\u001b[0m\u001b[1;92m: \u001b[0m    \u001b[1;94mQC\u001b[0m\n",
      "\u001b[1;92m[Spark]\u001b[0m\u001b[1;92m[   info]\u001b[0m\u001b[1;92m: \u001b[0m    \u001b[1;94m...\u001b[0m\n",
      "\u001b[1;92m[Spark]\u001b[0m\u001b[1;92m[   info]\u001b[0m\u001b[1;92m: \u001b[0m\u001b[0;33mVehicleType\u001b[0m\n",
      "\u001b[1;92m[Spark]\u001b[0m\u001b[1;92m[   info]\u001b[0m\u001b[1;92m: \u001b[0m    \u001b[1;94m08 - Recreational Vehicle\u001b[0m\n",
      "\u001b[1;92m[Spark]\u001b[0m\u001b[1;92m[   info]\u001b[0m\u001b[1;92m: \u001b[0m    \u001b[1;94m15 - Fire(Emerg)\u001b[0m\n",
      "\u001b[1;92m[Spark]\u001b[0m\u001b[1;92m[   info]\u001b[0m\u001b[1;92m: \u001b[0m    \u001b[1;94m11 - Cross Country Bus\u001b[0m\n",
      "\u001b[1;92m[Spark]\u001b[0m\u001b[1;92m[   info]\u001b[0m\u001b[1;92m: \u001b[0m    \u001b[1;94m13 - Ambulance\u001b[0m\n",
      "\u001b[1;92m[Spark]\u001b[0m\u001b[1;92m[   info]\u001b[0m\u001b[1;92m: \u001b[0m    \u001b[1;94m10 - Transit Bus\u001b[0m\n",
      "\u001b[1;92m[Spark]\u001b[0m\u001b[1;92m[   info]\u001b[0m\u001b[1;92m: \u001b[0m    \u001b[1;94m02 - Automobile\u001b[0m\n",
      "\u001b[1;92m[Spark]\u001b[0m\u001b[1;92m[   info]\u001b[0m\u001b[1;92m: \u001b[0m    \u001b[1;94m16 - Fire(Non-Emerg)\u001b[0m\n",
      "\u001b[1;92m[Spark]\u001b[0m\u001b[1;92m[   info]\u001b[0m\u001b[1;92m: \u001b[0m    \u001b[1;94m03 - Station Wagon\u001b[0m\n",
      "\u001b[1;92m[Spark]\u001b[0m\u001b[1;92m[   info]\u001b[0m\u001b[1;92m: \u001b[0m    \u001b[1;94m17 - Police(Emerg)\u001b[0m\n",
      "\u001b[1;92m[Spark]\u001b[0m\u001b[1;92m[   info]\u001b[0m\u001b[1;92m: \u001b[0m    \u001b[1;94m27 - Farm Equipment\u001b[0m\n",
      "\u001b[1;92m[Spark]\u001b[0m\u001b[1;92m[   info]\u001b[0m\u001b[1;92m: \u001b[0m    \u001b[1;94m...\u001b[0m\n",
      "\u001b[1;92m[Spark]\u001b[0m\u001b[1;92m[   info]\u001b[0m\u001b[1;92m: \u001b[0m\u001b[0;33mColor\u001b[0m\n",
      "\u001b[1;92m[Spark]\u001b[0m\u001b[1;92m[   info]\u001b[0m\u001b[1;92m: \u001b[0m    \u001b[1;94mRED\u001b[0m\n",
      "\u001b[1;92m[Spark]\u001b[0m\u001b[1;92m[   info]\u001b[0m\u001b[1;92m: \u001b[0m    \u001b[1;94mWHITE\u001b[0m\n",
      "\u001b[1;92m[Spark]\u001b[0m\u001b[1;92m[   info]\u001b[0m\u001b[1;92m: \u001b[0m    \u001b[1;94mBLACK\u001b[0m\n",
      "\u001b[1;92m[Spark]\u001b[0m\u001b[1;92m[   info]\u001b[0m\u001b[1;92m: \u001b[0m    \u001b[1;94mCHROME\u001b[0m\n",
      "\u001b[1;92m[Spark]\u001b[0m\u001b[1;92m[   info]\u001b[0m\u001b[1;92m: \u001b[0m    \u001b[1;94mBEIGE\u001b[0m\n",
      "\u001b[1;92m[Spark]\u001b[0m\u001b[1;92m[   info]\u001b[0m\u001b[1;92m: \u001b[0m    \u001b[1;94mCAMOUFLAGE\u001b[0m\n",
      "\u001b[1;92m[Spark]\u001b[0m\u001b[1;92m[   info]\u001b[0m\u001b[1;92m: \u001b[0m    \u001b[1;94mGREEN\u001b[0m\n",
      "\u001b[1;92m[Spark]\u001b[0m\u001b[1;92m[   info]\u001b[0m\u001b[1;92m: \u001b[0m    \u001b[1;94mGRAY\u001b[0m\n",
      "\u001b[1;92m[Spark]\u001b[0m\u001b[1;92m[   info]\u001b[0m\u001b[1;92m: \u001b[0m    \u001b[1;94mBLUE, DARK\u001b[0m\n",
      "\u001b[1;92m[Spark]\u001b[0m\u001b[1;92m[   info]\u001b[0m\u001b[1;92m: \u001b[0m    \u001b[1;94mCREAM\u001b[0m\n",
      "\u001b[1;92m[Spark]\u001b[0m\u001b[1;92m[   info]\u001b[0m\u001b[1;92m: \u001b[0m    \u001b[1;94m...\u001b[0m\n",
      "\u001b[1;92m[Spark]\u001b[0m\u001b[1;92m[   info]\u001b[0m\u001b[1;92m: \u001b[0m\u001b[0;33mViolation Type\u001b[0m\n",
      "\u001b[1;92m[Spark]\u001b[0m\u001b[1;92m[   info]\u001b[0m\u001b[1;92m: \u001b[0m    \u001b[1;94mSERO\u001b[0m\n",
      "\u001b[1;92m[Spark]\u001b[0m\u001b[1;92m[   info]\u001b[0m\u001b[1;92m: \u001b[0m    \u001b[1;94mCitation\u001b[0m\n",
      "\u001b[1;92m[Spark]\u001b[0m\u001b[1;92m[   info]\u001b[0m\u001b[1;92m: \u001b[0m    \u001b[1;94mESERO\u001b[0m\n",
      "\u001b[1;92m[Spark]\u001b[0m\u001b[1;92m[   info]\u001b[0m\u001b[1;92m: \u001b[0m    \u001b[1;94mWarning\u001b[0m\n",
      "\u001b[1;92m[Spark]\u001b[0m\u001b[1;92m[   info]\u001b[0m\u001b[1;92m: \u001b[0m\u001b[0;33mContributed To Accident\u001b[0m\n",
      "\u001b[1;92m[Spark]\u001b[0m\u001b[1;92m[   info]\u001b[0m\u001b[1;92m: \u001b[0m    \u001b[1;94mNo\u001b[0m\n",
      "\u001b[1;92m[Spark]\u001b[0m\u001b[1;92m[   info]\u001b[0m\u001b[1;92m: \u001b[0m    \u001b[1;94mYes\u001b[0m\n",
      "\u001b[1;92m[Spark]\u001b[0m\u001b[1;92m[   info]\u001b[0m\u001b[1;92m: \u001b[0m\u001b[0;33mRace\u001b[0m\n",
      "\u001b[1;92m[Spark]\u001b[0m\u001b[1;92m[   info]\u001b[0m\u001b[1;92m: \u001b[0m    \u001b[1;94mWHITE\u001b[0m\n",
      "\u001b[1;92m[Spark]\u001b[0m\u001b[1;92m[   info]\u001b[0m\u001b[1;92m: \u001b[0m    \u001b[1;94mBLACK\u001b[0m\n",
      "\u001b[1;92m[Spark]\u001b[0m\u001b[1;92m[   info]\u001b[0m\u001b[1;92m: \u001b[0m    \u001b[1;94mHISPANIC\u001b[0m\n",
      "\u001b[1;92m[Spark]\u001b[0m\u001b[1;92m[   info]\u001b[0m\u001b[1;92m: \u001b[0m    \u001b[1;94mNATIVE AMERICAN\u001b[0m\n",
      "\u001b[1;92m[Spark]\u001b[0m\u001b[1;92m[   info]\u001b[0m\u001b[1;92m: \u001b[0m    \u001b[1;94mOTHER\u001b[0m\n",
      "\u001b[1;92m[Spark]\u001b[0m\u001b[1;92m[   info]\u001b[0m\u001b[1;92m: \u001b[0m    \u001b[1;94mASIAN\u001b[0m\n",
      "\u001b[1;92m[Spark]\u001b[0m\u001b[1;92m[   info]\u001b[0m\u001b[1;92m: \u001b[0m\u001b[0;33mGender\u001b[0m\n",
      "\u001b[1;92m[Spark]\u001b[0m\u001b[1;92m[   info]\u001b[0m\u001b[1;92m: \u001b[0m    \u001b[1;94mF\u001b[0m\n",
      "\u001b[1;92m[Spark]\u001b[0m\u001b[1;92m[   info]\u001b[0m\u001b[1;92m: \u001b[0m    \u001b[1;94mM\u001b[0m\n",
      "\u001b[1;92m[Spark]\u001b[0m\u001b[1;92m[   info]\u001b[0m\u001b[1;92m: \u001b[0m    \u001b[1;94mU\u001b[0m\n",
      "\u001b[1;92m[Spark]\u001b[0m\u001b[1;92m[   info]\u001b[0m\u001b[1;92m: \u001b[0m\u001b[0;33mDriver State\u001b[0m\n",
      "\u001b[1;92m[Spark]\u001b[0m\u001b[1;92m[   info]\u001b[0m\u001b[1;92m: \u001b[0m    \u001b[1;94mSC\u001b[0m\n",
      "\u001b[1;92m[Spark]\u001b[0m\u001b[1;92m[   info]\u001b[0m\u001b[1;92m: \u001b[0m    \u001b[1;94mAZ\u001b[0m\n",
      "\u001b[1;92m[Spark]\u001b[0m\u001b[1;92m[   info]\u001b[0m\u001b[1;92m: \u001b[0m    \u001b[1;94mNS\u001b[0m\n",
      "\u001b[1;92m[Spark]\u001b[0m\u001b[1;92m[   info]\u001b[0m\u001b[1;92m: \u001b[0m    \u001b[1;94mLA\u001b[0m\n",
      "\u001b[1;92m[Spark]\u001b[0m\u001b[1;92m[   info]\u001b[0m\u001b[1;92m: \u001b[0m    \u001b[1;94mMN\u001b[0m\n",
      "\u001b[1;92m[Spark]\u001b[0m\u001b[1;92m[   info]\u001b[0m\u001b[1;92m: \u001b[0m    \u001b[1;94mNJ\u001b[0m\n",
      "\u001b[1;92m[Spark]\u001b[0m\u001b[1;92m[   info]\u001b[0m\u001b[1;92m: \u001b[0m    \u001b[1;94mDC\u001b[0m\n",
      "\u001b[1;92m[Spark]\u001b[0m\u001b[1;92m[   info]\u001b[0m\u001b[1;92m: \u001b[0m    \u001b[1;94mOR\u001b[0m\n",
      "\u001b[1;92m[Spark]\u001b[0m\u001b[1;92m[   info]\u001b[0m\u001b[1;92m: \u001b[0m    \u001b[1;94mVA\u001b[0m\n",
      "\u001b[1;92m[Spark]\u001b[0m\u001b[1;92m[   info]\u001b[0m\u001b[1;92m: \u001b[0m    \u001b[1;94mQC\u001b[0m\n",
      "\u001b[1;92m[Spark]\u001b[0m\u001b[1;92m[   info]\u001b[0m\u001b[1;92m: \u001b[0m    \u001b[1;94m...\u001b[0m\n",
      "\u001b[1;92m[Spark]\u001b[0m\u001b[1;92m[   info]\u001b[0m\u001b[1;92m: \u001b[0m\u001b[0;33mDL State\u001b[0m\n",
      "\u001b[1;92m[Spark]\u001b[0m\u001b[1;92m[   info]\u001b[0m\u001b[1;92m: \u001b[0m    \u001b[1;94mSC\u001b[0m\n",
      "\u001b[1;92m[Spark]\u001b[0m\u001b[1;92m[   info]\u001b[0m\u001b[1;92m: \u001b[0m    \u001b[1;94mAZ\u001b[0m\n",
      "\u001b[1;92m[Spark]\u001b[0m\u001b[1;92m[   info]\u001b[0m\u001b[1;92m: \u001b[0m    \u001b[1;94mNS\u001b[0m\n",
      "\u001b[1;92m[Spark]\u001b[0m\u001b[1;92m[   info]\u001b[0m\u001b[1;92m: \u001b[0m    \u001b[1;94mLA\u001b[0m\n",
      "\u001b[1;92m[Spark]\u001b[0m\u001b[1;92m[   info]\u001b[0m\u001b[1;92m: \u001b[0m    \u001b[1;94mMN\u001b[0m\n",
      "\u001b[1;92m[Spark]\u001b[0m\u001b[1;92m[   info]\u001b[0m\u001b[1;92m: \u001b[0m    \u001b[1;94mNJ\u001b[0m\n",
      "\u001b[1;92m[Spark]\u001b[0m\u001b[1;92m[   info]\u001b[0m\u001b[1;92m: \u001b[0m    \u001b[1;94mDC\u001b[0m\n",
      "\u001b[1;92m[Spark]\u001b[0m\u001b[1;92m[   info]\u001b[0m\u001b[1;92m: \u001b[0m    \u001b[1;94mOR\u001b[0m\n",
      "\u001b[1;92m[Spark]\u001b[0m\u001b[1;92m[   info]\u001b[0m\u001b[1;92m: \u001b[0m    \u001b[1;94mVA\u001b[0m\n",
      "\u001b[1;92m[Spark]\u001b[0m\u001b[1;92m[   info]\u001b[0m\u001b[1;92m: \u001b[0m    \u001b[1;94mQC\u001b[0m\n",
      "\u001b[1;92m[Spark]\u001b[0m\u001b[1;92m[   info]\u001b[0m\u001b[1;92m: \u001b[0m    \u001b[1;94m...\u001b[0m\n"
     ]
    },
    {
     "name": "stdout",
     "output_type": "stream",
     "text": [
      "\u001b[1;92m[Spark]\u001b[0m\u001b[1;92m[   info]\u001b[0m\u001b[1;92m: \u001b[0m\u001b[0;33mArrest Type\u001b[0m\n",
      "\u001b[1;92m[Spark]\u001b[0m\u001b[1;92m[   info]\u001b[0m\u001b[1;92m: \u001b[0m    \u001b[1;94mR - Unmarked Laser\u001b[0m\n",
      "\u001b[1;92m[Spark]\u001b[0m\u001b[1;92m[   info]\u001b[0m\u001b[1;92m: \u001b[0m    \u001b[1;94mO - Foot Patrol\u001b[0m\n",
      "\u001b[1;92m[Spark]\u001b[0m\u001b[1;92m[   info]\u001b[0m\u001b[1;92m: \u001b[0m    \u001b[1;94mN - Unmarked (Off-Duty)\u001b[0m\n",
      "\u001b[1;92m[Spark]\u001b[0m\u001b[1;92m[   info]\u001b[0m\u001b[1;92m: \u001b[0m    \u001b[1;94mP - Mounted Patrol\u001b[0m\n",
      "\u001b[1;92m[Spark]\u001b[0m\u001b[1;92m[   info]\u001b[0m\u001b[1;92m: \u001b[0m    \u001b[1;94mE - Marked Stationary Radar\u001b[0m\n",
      "\u001b[1;92m[Spark]\u001b[0m\u001b[1;92m[   info]\u001b[0m\u001b[1;92m: \u001b[0m    \u001b[1;94mC - Marked VASCAR\u001b[0m\n",
      "\u001b[1;92m[Spark]\u001b[0m\u001b[1;92m[   info]\u001b[0m\u001b[1;92m: \u001b[0m    \u001b[1;94mL - Motorcycle\u001b[0m\n",
      "\u001b[1;92m[Spark]\u001b[0m\u001b[1;92m[   info]\u001b[0m\u001b[1;92m: \u001b[0m    \u001b[1;94mB - Unmarked Patrol\u001b[0m\n",
      "\u001b[1;92m[Spark]\u001b[0m\u001b[1;92m[   info]\u001b[0m\u001b[1;92m: \u001b[0m    \u001b[1;94mF - Unmarked Stationary Radar\u001b[0m\n",
      "\u001b[1;92m[Spark]\u001b[0m\u001b[1;92m[   info]\u001b[0m\u001b[1;92m: \u001b[0m    \u001b[1;94mS - License Plate Recognition\u001b[0m\n",
      "\u001b[1;92m[Spark]\u001b[0m\u001b[1;92m[   info]\u001b[0m\u001b[1;92m: \u001b[0m    \u001b[1;94m...\u001b[0m\n"
     ]
    }
   ],
   "source": [
    "dfx_model = create_dummies(dfx_model.na.fill('Null'),  regressors[0], True)\n",
    "\n",
    "for r in regressors[1::]:\n",
    "    dfx_model = create_dummies(dfx_model, r, True)"
   ]
  },
  {
   "cell_type": "code",
   "execution_count": 25,
   "metadata": {
    "ExecuteTime": {
     "end_time": "2018-10-04T13:16:47.196233Z",
     "start_time": "2018-10-04T13:16:46.184268Z"
    },
    "scrolled": true
   },
   "outputs": [
    {
     "data": {
      "text/html": [
       "<div>\n",
       "<style scoped>\n",
       "    .dataframe tbody tr th:only-of-type {\n",
       "        vertical-align: middle;\n",
       "    }\n",
       "\n",
       "    .dataframe tbody tr th {\n",
       "        vertical-align: top;\n",
       "    }\n",
       "\n",
       "    .dataframe thead th {\n",
       "        text-align: right;\n",
       "    }\n",
       "</style>\n",
       "<table border=\"1\" class=\"dataframe\">\n",
       "  <thead>\n",
       "    <tr style=\"text-align: right;\">\n",
       "      <th></th>\n",
       "      <th>Belts</th>\n",
       "      <th>Agency_MCP</th>\n",
       "      <th>SubAgency_5th district, Germantown</th>\n",
       "      <th>SubAgency_4th district, Wheaton</th>\n",
       "      <th>SubAgency_3rd district, Silver Spring</th>\n",
       "      <th>SubAgency_6th district, Gaithersburg / Montgomery Village</th>\n",
       "      <th>SubAgency_2nd district, Bethesda</th>\n",
       "      <th>SubAgency_Headquarters and Special Operations</th>\n",
       "      <th>SubAgency_1st district, Rockville</th>\n",
       "      <th>Accident_No</th>\n",
       "      <th>...</th>\n",
       "      <th>Arrest Type_S - License Plate Recognition</th>\n",
       "      <th>Arrest Type_H - Unmarked Moving Radar (Stationary)</th>\n",
       "      <th>Arrest Type_A - Marked Patrol</th>\n",
       "      <th>Arrest Type_K - Aircraft Assist</th>\n",
       "      <th>Arrest Type_I - Marked Moving Radar (Moving)</th>\n",
       "      <th>Arrest Type_J - Unmarked Moving Radar (Moving)</th>\n",
       "      <th>Arrest Type_D - Unmarked VASCAR</th>\n",
       "      <th>Arrest Type_G - Marked Moving Radar (Stationary)</th>\n",
       "      <th>Arrest Type_Q - Marked Laser</th>\n",
       "      <th>Arrest Type_M - Marked (Off-Duty)</th>\n",
       "    </tr>\n",
       "  </thead>\n",
       "  <tbody>\n",
       "    <tr>\n",
       "      <th>0</th>\n",
       "      <td>No</td>\n",
       "      <td>1</td>\n",
       "      <td>0</td>\n",
       "      <td>0</td>\n",
       "      <td>1</td>\n",
       "      <td>0</td>\n",
       "      <td>0</td>\n",
       "      <td>0</td>\n",
       "      <td>0</td>\n",
       "      <td>1</td>\n",
       "      <td>...</td>\n",
       "      <td>0</td>\n",
       "      <td>0</td>\n",
       "      <td>1</td>\n",
       "      <td>0</td>\n",
       "      <td>0</td>\n",
       "      <td>0</td>\n",
       "      <td>0</td>\n",
       "      <td>0</td>\n",
       "      <td>0</td>\n",
       "      <td>0</td>\n",
       "    </tr>\n",
       "    <tr>\n",
       "      <th>1</th>\n",
       "      <td>No</td>\n",
       "      <td>1</td>\n",
       "      <td>0</td>\n",
       "      <td>0</td>\n",
       "      <td>0</td>\n",
       "      <td>0</td>\n",
       "      <td>1</td>\n",
       "      <td>0</td>\n",
       "      <td>0</td>\n",
       "      <td>1</td>\n",
       "      <td>...</td>\n",
       "      <td>0</td>\n",
       "      <td>0</td>\n",
       "      <td>1</td>\n",
       "      <td>0</td>\n",
       "      <td>0</td>\n",
       "      <td>0</td>\n",
       "      <td>0</td>\n",
       "      <td>0</td>\n",
       "      <td>0</td>\n",
       "      <td>0</td>\n",
       "    </tr>\n",
       "    <tr>\n",
       "      <th>2</th>\n",
       "      <td>No</td>\n",
       "      <td>1</td>\n",
       "      <td>1</td>\n",
       "      <td>0</td>\n",
       "      <td>0</td>\n",
       "      <td>0</td>\n",
       "      <td>0</td>\n",
       "      <td>0</td>\n",
       "      <td>0</td>\n",
       "      <td>1</td>\n",
       "      <td>...</td>\n",
       "      <td>0</td>\n",
       "      <td>0</td>\n",
       "      <td>1</td>\n",
       "      <td>0</td>\n",
       "      <td>0</td>\n",
       "      <td>0</td>\n",
       "      <td>0</td>\n",
       "      <td>0</td>\n",
       "      <td>0</td>\n",
       "      <td>0</td>\n",
       "    </tr>\n",
       "    <tr>\n",
       "      <th>3</th>\n",
       "      <td>No</td>\n",
       "      <td>1</td>\n",
       "      <td>0</td>\n",
       "      <td>0</td>\n",
       "      <td>0</td>\n",
       "      <td>0</td>\n",
       "      <td>1</td>\n",
       "      <td>0</td>\n",
       "      <td>0</td>\n",
       "      <td>1</td>\n",
       "      <td>...</td>\n",
       "      <td>0</td>\n",
       "      <td>0</td>\n",
       "      <td>1</td>\n",
       "      <td>0</td>\n",
       "      <td>0</td>\n",
       "      <td>0</td>\n",
       "      <td>0</td>\n",
       "      <td>0</td>\n",
       "      <td>0</td>\n",
       "      <td>0</td>\n",
       "    </tr>\n",
       "    <tr>\n",
       "      <th>4</th>\n",
       "      <td>No</td>\n",
       "      <td>1</td>\n",
       "      <td>0</td>\n",
       "      <td>0</td>\n",
       "      <td>0</td>\n",
       "      <td>1</td>\n",
       "      <td>0</td>\n",
       "      <td>0</td>\n",
       "      <td>0</td>\n",
       "      <td>1</td>\n",
       "      <td>...</td>\n",
       "      <td>0</td>\n",
       "      <td>0</td>\n",
       "      <td>1</td>\n",
       "      <td>0</td>\n",
       "      <td>0</td>\n",
       "      <td>0</td>\n",
       "      <td>0</td>\n",
       "      <td>0</td>\n",
       "      <td>0</td>\n",
       "      <td>0</td>\n",
       "    </tr>\n",
       "  </tbody>\n",
       "</table>\n",
       "<p>5 rows × 329 columns</p>\n",
       "</div>"
      ],
      "text/plain": [
       "  Belts  Agency_MCP  SubAgency_5th district, Germantown  \\\n",
       "0    No           1                                   0   \n",
       "1    No           1                                   0   \n",
       "2    No           1                                   1   \n",
       "3    No           1                                   0   \n",
       "4    No           1                                   0   \n",
       "\n",
       "   SubAgency_4th district, Wheaton  SubAgency_3rd district, Silver Spring  \\\n",
       "0                                0                                      1   \n",
       "1                                0                                      0   \n",
       "2                                0                                      0   \n",
       "3                                0                                      0   \n",
       "4                                0                                      0   \n",
       "\n",
       "   SubAgency_6th district, Gaithersburg / Montgomery Village  \\\n",
       "0                                                  0           \n",
       "1                                                  0           \n",
       "2                                                  0           \n",
       "3                                                  0           \n",
       "4                                                  1           \n",
       "\n",
       "   SubAgency_2nd district, Bethesda  \\\n",
       "0                                 0   \n",
       "1                                 1   \n",
       "2                                 0   \n",
       "3                                 1   \n",
       "4                                 0   \n",
       "\n",
       "   SubAgency_Headquarters and Special Operations  \\\n",
       "0                                              0   \n",
       "1                                              0   \n",
       "2                                              0   \n",
       "3                                              0   \n",
       "4                                              0   \n",
       "\n",
       "   SubAgency_1st district, Rockville  Accident_No  \\\n",
       "0                                  0            1   \n",
       "1                                  0            1   \n",
       "2                                  0            1   \n",
       "3                                  0            1   \n",
       "4                                  0            1   \n",
       "\n",
       "                 ...                  \\\n",
       "0                ...                   \n",
       "1                ...                   \n",
       "2                ...                   \n",
       "3                ...                   \n",
       "4                ...                   \n",
       "\n",
       "   Arrest Type_S - License Plate Recognition  \\\n",
       "0                                          0   \n",
       "1                                          0   \n",
       "2                                          0   \n",
       "3                                          0   \n",
       "4                                          0   \n",
       "\n",
       "   Arrest Type_H - Unmarked Moving Radar (Stationary)  \\\n",
       "0                                                  0    \n",
       "1                                                  0    \n",
       "2                                                  0    \n",
       "3                                                  0    \n",
       "4                                                  0    \n",
       "\n",
       "   Arrest Type_A - Marked Patrol  Arrest Type_K - Aircraft Assist  \\\n",
       "0                              1                                0   \n",
       "1                              1                                0   \n",
       "2                              1                                0   \n",
       "3                              1                                0   \n",
       "4                              1                                0   \n",
       "\n",
       "   Arrest Type_I - Marked Moving Radar (Moving)  \\\n",
       "0                                             0   \n",
       "1                                             0   \n",
       "2                                             0   \n",
       "3                                             0   \n",
       "4                                             0   \n",
       "\n",
       "   Arrest Type_J - Unmarked Moving Radar (Moving)  \\\n",
       "0                                               0   \n",
       "1                                               0   \n",
       "2                                               0   \n",
       "3                                               0   \n",
       "4                                               0   \n",
       "\n",
       "   Arrest Type_D - Unmarked VASCAR  \\\n",
       "0                                0   \n",
       "1                                0   \n",
       "2                                0   \n",
       "3                                0   \n",
       "4                                0   \n",
       "\n",
       "   Arrest Type_G - Marked Moving Radar (Stationary)  \\\n",
       "0                                                 0   \n",
       "1                                                 0   \n",
       "2                                                 0   \n",
       "3                                                 0   \n",
       "4                                                 0   \n",
       "\n",
       "   Arrest Type_Q - Marked Laser  Arrest Type_M - Marked (Off-Duty)  \n",
       "0                             0                                  0  \n",
       "1                             0                                  0  \n",
       "2                             0                                  0  \n",
       "3                             0                                  0  \n",
       "4                             0                                  0  \n",
       "\n",
       "[5 rows x 329 columns]"
      ]
     },
     "execution_count": 25,
     "metadata": {},
     "output_type": "execute_result"
    }
   ],
   "source": [
    "dfx_model.limit(5).toPandas()"
   ]
  },
  {
   "cell_type": "code",
   "execution_count": 26,
   "metadata": {
    "ExecuteTime": {
     "end_time": "2018-10-04T13:16:47.289366Z",
     "start_time": "2018-10-04T13:16:47.198466Z"
    }
   },
   "outputs": [],
   "source": [
    "from pyspark.ml.feature import OneHotEncoderEstimator, StringIndexer, VectorAssembler\n",
    "\n",
    "# Prepare PipeLine\n",
    "stages = []\n",
    "\n",
    "# Coding Label\n",
    "label_stringIdx = StringIndexer(inputCol = 'Belts', outputCol = 'label')\n",
    "stages += [label_stringIdx]\n",
    "\n",
    "# Coding Numeric Columns for regressors\n",
    "numericCols = dfx_model.columns\n",
    "numericCols.remove('Belts')\n",
    "numericCols\n",
    "assembler = VectorAssembler(inputCols=numericCols, outputCol=\"features\")\n",
    "stages += [assembler]"
   ]
  },
  {
   "cell_type": "code",
   "execution_count": 27,
   "metadata": {
    "ExecuteTime": {
     "end_time": "2018-10-04T13:16:49.558841Z",
     "start_time": "2018-10-04T13:16:47.291357Z"
    }
   },
   "outputs": [
    {
     "name": "stdout",
     "output_type": "stream",
     "text": [
      "root\n",
      " |-- label: double (nullable = false)\n",
      " |-- features: vector (nullable = true)\n",
      "\n"
     ]
    }
   ],
   "source": [
    "from pyspark.ml import Pipeline\n",
    "pipeline = Pipeline(stages = stages)\n",
    "pipelineModel = pipeline.fit(dfx_model)\n",
    "dfx_model = pipelineModel.transform(dfx_model)\n",
    "selectedCols = ['label', 'features']\n",
    "dfx_model = dfx_model.select(selectedCols)\n",
    "dfx_model.printSchema()"
   ]
  },
  {
   "cell_type": "code",
   "execution_count": 28,
   "metadata": {
    "ExecuteTime": {
     "end_time": "2018-10-04T13:17:14.489190Z",
     "start_time": "2018-10-04T13:16:49.561508Z"
    }
   },
   "outputs": [
    {
     "name": "stdout",
     "output_type": "stream",
     "text": [
      "Training Dataset Count: 759401\n",
      "Test Dataset Count: 326269\n"
     ]
    }
   ],
   "source": [
    "train, test = dfx_model.randomSplit([0.7, 0.3], seed = 2018)\n",
    "print(\"Training Dataset Count: \" + str(train.count()))\n",
    "print(\"Test Dataset Count: \" + str(test.count()))"
   ]
  },
  {
   "cell_type": "code",
   "execution_count": 29,
   "metadata": {
    "ExecuteTime": {
     "end_time": "2018-10-04T13:17:30.926978Z",
     "start_time": "2018-10-04T13:17:14.492142Z"
    }
   },
   "outputs": [],
   "source": [
    "from pyspark.ml.classification import LogisticRegression\n",
    "lr = LogisticRegression(featuresCol = 'features', labelCol = 'label', maxIter=10)\n",
    "lrModel = lr.fit(train)"
   ]
  },
  {
   "cell_type": "code",
   "execution_count": 30,
   "metadata": {
    "ExecuteTime": {
     "end_time": "2018-10-04T13:17:31.433529Z",
     "start_time": "2018-10-04T13:17:30.929452Z"
    }
   },
   "outputs": [
    {
     "data": {
      "image/png": "[encoded data removed]",
      "text/plain": [
       "<Figure size 432x288 with 1 Axes>"
      ]
     },
     "metadata": {},
     "output_type": "display_data"
    }
   ],
   "source": [
    "%matplotlib inline  \n",
    "import matplotlib.pyplot as plt\n",
    "import numpy as np\n",
    "beta = np.sort(lrModel.coefficients)\n",
    "plt.plot(beta)\n",
    "plt.ylabel('Beta Coefficients')\n",
    "plt.show()"
   ]
  },
  {
   "cell_type": "code",
   "execution_count": 31,
   "metadata": {
    "ExecuteTime": {
     "end_time": "2018-10-04T13:17:46.537074Z",
     "start_time": "2018-10-04T13:17:31.435420Z"
    }
   },
   "outputs": [
    {
     "data": {
      "image/png": "[encoded data removed]",
      "text/plain": [
       "<Figure size 432x288 with 1 Axes>"
      ]
     },
     "metadata": {},
     "output_type": "display_data"
    },
    {
     "name": "stdout",
     "output_type": "stream",
     "text": [
      "Training set areaUnderROC: 0.7371588544056842\n"
     ]
    }
   ],
   "source": [
    "trainingSummary = lrModel.summary\n",
    "roc = trainingSummary.roc.toPandas()\n",
    "plt.plot(roc['FPR'],roc['TPR'])\n",
    "plt.ylabel('False Positive Rate')\n",
    "plt.xlabel('True Positive Rate')\n",
    "plt.title('ROC Curve')\n",
    "plt.show()\n",
    "print('Training set areaUnderROC: ' + str(trainingSummary.areaUnderROC))"
   ]
  },
  {
   "cell_type": "code",
   "execution_count": 32,
   "metadata": {
    "ExecuteTime": {
     "end_time": "2018-10-04T13:20:22.083802Z",
     "start_time": "2018-10-04T13:17:46.540520Z"
    }
   },
   "outputs": [],
   "source": [
    "from pyspark.ml.classification import GBTClassifier\n",
    "gbt = GBTClassifier(maxIter=10)\n",
    "gbtModel = gbt.fit(train)\n",
    "gbtModel_predictions = gbtModel.transform(test)"
   ]
  },
  {
   "cell_type": "code",
   "execution_count": 33,
   "metadata": {
    "ExecuteTime": {
     "end_time": "2018-10-04T13:20:22.122823Z",
     "start_time": "2018-10-04T13:20:22.085844Z"
    }
   },
   "outputs": [],
   "source": [
    "gbtModel_predictions = gbtModel.transform(test)\n",
    "lrModel_predictions = lrModel.transform(test)"
   ]
  },
  {
   "cell_type": "code",
   "execution_count": 34,
   "metadata": {
    "ExecuteTime": {
     "end_time": "2018-10-04T13:20:46.971620Z",
     "start_time": "2018-10-04T13:20:22.124799Z"
    }
   },
   "outputs": [
    {
     "name": "stdout",
     "output_type": "stream",
     "text": [
      "Test Area Under ROC - Linear Regression: 0.7337220905143509\n",
      "Test Area Under ROC - Gradient Boost: 0.7571388055168358\n"
     ]
    }
   ],
   "source": [
    "from pyspark.ml.evaluation import BinaryClassificationEvaluator\n",
    "\n",
    "evaluator = BinaryClassificationEvaluator()\n",
    "print(\"Test Area Under ROC - Linear Regression: \" + str(evaluator.evaluate(lrModel_predictions, {evaluator.metricName: \"areaUnderROC\"})))\n",
    "print(\"Test Area Under ROC - Gradient Boost: \" + str(evaluator.evaluate(gbtModel_predictions, {evaluator.metricName: \"areaUnderROC\"})))"
   ]
  }
 ],
 "metadata": {
  "kernelspec": {
   "display_name": "Python 3",
   "language": "python",
   "name": "python3"
  },
  "language_info": {
   "codemirror_mode": {
    "name": "ipython",
    "version": 3
   },
   "file_extension": ".py",
   "mimetype": "text/x-python",
   "name": "python",
   "nbconvert_exporter": "python",
   "pygments_lexer": "ipython3",
   "version": "3.6.5"
  },
  "toc": {
   "base_numbering": 1,
   "nav_menu": {},
   "number_sections": true,
   "sideBar": true,
   "skip_h1_title": false,
   "title_cell": "Table of Contents",
   "title_sidebar": "Contents",
   "toc_cell": false,
   "toc_position": {},
   "toc_section_display": true,
   "toc_window_display": true
  }
 },
 "nbformat": 4,
 "nbformat_minor": 1
}
